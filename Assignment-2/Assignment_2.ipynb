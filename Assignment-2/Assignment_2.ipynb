{
 "cells": [
  {
   "cell_type": "markdown",
   "id": "78ee6ccb-0ba1-4538-809a-5efc02a7ffc2",
   "metadata": {},
   "source": [
    "<b> pre-processing work of assi-1 req for this is here. assign-2 starts below this pre-processing <b>"
   ]
  },
  {
   "cell_type": "code",
   "execution_count": 1,
   "id": "dce8d2ec-69aa-4aad-ac16-54b75bc4b7b5",
   "metadata": {},
   "outputs": [],
   "source": [
    "#import any randoom dats set\n",
    "import pandas as pd\n",
    "df1=pd.read_csv(\"tested.csv\")"
   ]
  },
  {
   "cell_type": "code",
   "execution_count": 2,
   "id": "c1072ec7-564d-448d-ac93-ae4fe7f10692",
   "metadata": {},
   "outputs": [
    {
     "name": "stdout",
     "output_type": "stream",
     "text": [
      "86\n",
      "1\n",
      "327\n",
      "Cabin\n",
      "B57 B59 B63 B66    3\n",
      "B45                2\n",
      "C89                2\n",
      "C55 C57            2\n",
      "A34                2\n",
      "                  ..\n",
      "E52                1\n",
      "D30                1\n",
      "E31                1\n",
      "C62 C64            1\n",
      "C105               1\n",
      "Name: count, Length: 76, dtype: int64\n"
     ]
    },
    {
     "name": "stderr",
     "output_type": "stream",
     "text": [
      "C:\\Users\\viren\\AppData\\Local\\Temp\\ipykernel_12448\\2629898228.py:3: FutureWarning: A value is trying to be set on a copy of a DataFrame or Series through chained assignment using an inplace method.\n",
      "The behavior will change in pandas 3.0. This inplace method will never work because the intermediate object on which we are setting values always behaves as a copy.\n",
      "\n",
      "For example, when doing 'df[col].method(value, inplace=True)', try using 'df.method({col: value}, inplace=True)' or df[col] = df[col].method(value) instead, to perform the operation inplace on the original object.\n",
      "\n",
      "\n",
      "  df1['Age'].fillna(value=df1['Age'].mean(), inplace=True)\n",
      "C:\\Users\\viren\\AppData\\Local\\Temp\\ipykernel_12448\\2629898228.py:7: FutureWarning: A value is trying to be set on a copy of a DataFrame or Series through chained assignment using an inplace method.\n",
      "The behavior will change in pandas 3.0. This inplace method will never work because the intermediate object on which we are setting values always behaves as a copy.\n",
      "\n",
      "For example, when doing 'df[col].method(value, inplace=True)', try using 'df.method({col: value}, inplace=True)' or df[col] = df[col].method(value) instead, to perform the operation inplace on the original object.\n",
      "\n",
      "\n",
      "  df1['Fare'].fillna(value=df1['Fare'].mean(), inplace=True)\n",
      "C:\\Users\\viren\\AppData\\Local\\Temp\\ipykernel_12448\\2629898228.py:17: FutureWarning: A value is trying to be set on a copy of a DataFrame or Series through chained assignment using an inplace method.\n",
      "The behavior will change in pandas 3.0. This inplace method will never work because the intermediate object on which we are setting values always behaves as a copy.\n",
      "\n",
      "For example, when doing 'df[col].method(value, inplace=True)', try using 'df.method({col: value}, inplace=True)' or df[col] = df[col].method(value) instead, to perform the operation inplace on the original object.\n",
      "\n",
      "\n",
      "  df1['Cabin'].fillna(mode_cabin, inplace=True)\n"
     ]
    },
    {
     "data": {
      "text/plain": [
       "PassengerId    0\n",
       "Survived       0\n",
       "Pclass         0\n",
       "Name           0\n",
       "Sex            0\n",
       "Age            0\n",
       "SibSp          0\n",
       "Parch          0\n",
       "Ticket         0\n",
       "Fare           0\n",
       "Cabin          0\n",
       "Embarked       0\n",
       "dtype: int64"
      ]
     },
     "execution_count": 2,
     "metadata": {},
     "output_type": "execute_result"
    }
   ],
   "source": [
    "#Preprocessing\n",
    "print(df1['Age'].isnull().sum())  #86 null values\n",
    "df1['Age'].fillna(value=df1['Age'].mean(), inplace=True)\n",
    "\n",
    "#fare-- 1 null value\n",
    "print(df1['Fare'].isnull().sum()) #1\n",
    "df1['Fare'].fillna(value=df1['Fare'].mean(), inplace=True)\n",
    "\n",
    "\n",
    "##Cabin          327\n",
    "print(df1['Cabin'].isnull().sum()) #327\n",
    "# we have to check what type of values thi column ishaving\n",
    "print(df1['Cabin'].value_counts())\n",
    "#as it is somewhat categorical natured value\n",
    "#so let fill it with mode values\n",
    "mode_cabin = df1['Cabin'].mode()[0]\n",
    "df1['Cabin'].fillna(mode_cabin, inplace=True)\n",
    "\n",
    "df1.isnull().sum()  #NO nulll values now"
   ]
  },
  {
   "cell_type": "code",
   "execution_count": 3,
   "id": "78801844-6576-4cfb-ae79-8e45a1b197ba",
   "metadata": {},
   "outputs": [
    {
     "data": {
      "text/html": [
       "<div>\n",
       "<style scoped>\n",
       "    .dataframe tbody tr th:only-of-type {\n",
       "        vertical-align: middle;\n",
       "    }\n",
       "\n",
       "    .dataframe tbody tr th {\n",
       "        vertical-align: top;\n",
       "    }\n",
       "\n",
       "    .dataframe thead th {\n",
       "        text-align: right;\n",
       "    }\n",
       "</style>\n",
       "<table border=\"1\" class=\"dataframe\">\n",
       "  <thead>\n",
       "    <tr style=\"text-align: right;\">\n",
       "      <th></th>\n",
       "      <th>PassengerId</th>\n",
       "      <th>Survived</th>\n",
       "      <th>Pclass</th>\n",
       "      <th>Age</th>\n",
       "      <th>SibSp</th>\n",
       "      <th>Parch</th>\n",
       "      <th>Fare</th>\n",
       "    </tr>\n",
       "  </thead>\n",
       "  <tbody>\n",
       "    <tr>\n",
       "      <th>count</th>\n",
       "      <td>418.000000</td>\n",
       "      <td>418.000000</td>\n",
       "      <td>418.000000</td>\n",
       "      <td>418.000000</td>\n",
       "      <td>418.000000</td>\n",
       "      <td>418.000000</td>\n",
       "      <td>418.000000</td>\n",
       "    </tr>\n",
       "    <tr>\n",
       "      <th>mean</th>\n",
       "      <td>1100.500000</td>\n",
       "      <td>0.363636</td>\n",
       "      <td>2.265550</td>\n",
       "      <td>30.272590</td>\n",
       "      <td>0.447368</td>\n",
       "      <td>0.392344</td>\n",
       "      <td>35.627188</td>\n",
       "    </tr>\n",
       "    <tr>\n",
       "      <th>std</th>\n",
       "      <td>120.810458</td>\n",
       "      <td>0.481622</td>\n",
       "      <td>0.841838</td>\n",
       "      <td>12.634534</td>\n",
       "      <td>0.896760</td>\n",
       "      <td>0.981429</td>\n",
       "      <td>55.840500</td>\n",
       "    </tr>\n",
       "    <tr>\n",
       "      <th>min</th>\n",
       "      <td>892.000000</td>\n",
       "      <td>0.000000</td>\n",
       "      <td>1.000000</td>\n",
       "      <td>0.170000</td>\n",
       "      <td>0.000000</td>\n",
       "      <td>0.000000</td>\n",
       "      <td>0.000000</td>\n",
       "    </tr>\n",
       "    <tr>\n",
       "      <th>25%</th>\n",
       "      <td>996.250000</td>\n",
       "      <td>0.000000</td>\n",
       "      <td>1.000000</td>\n",
       "      <td>23.000000</td>\n",
       "      <td>0.000000</td>\n",
       "      <td>0.000000</td>\n",
       "      <td>7.895800</td>\n",
       "    </tr>\n",
       "    <tr>\n",
       "      <th>50%</th>\n",
       "      <td>1100.500000</td>\n",
       "      <td>0.000000</td>\n",
       "      <td>3.000000</td>\n",
       "      <td>30.272590</td>\n",
       "      <td>0.000000</td>\n",
       "      <td>0.000000</td>\n",
       "      <td>14.454200</td>\n",
       "    </tr>\n",
       "    <tr>\n",
       "      <th>75%</th>\n",
       "      <td>1204.750000</td>\n",
       "      <td>1.000000</td>\n",
       "      <td>3.000000</td>\n",
       "      <td>35.750000</td>\n",
       "      <td>1.000000</td>\n",
       "      <td>0.000000</td>\n",
       "      <td>31.500000</td>\n",
       "    </tr>\n",
       "    <tr>\n",
       "      <th>max</th>\n",
       "      <td>1309.000000</td>\n",
       "      <td>1.000000</td>\n",
       "      <td>3.000000</td>\n",
       "      <td>76.000000</td>\n",
       "      <td>8.000000</td>\n",
       "      <td>9.000000</td>\n",
       "      <td>512.329200</td>\n",
       "    </tr>\n",
       "  </tbody>\n",
       "</table>\n",
       "</div>"
      ],
      "text/plain": [
       "       PassengerId    Survived      Pclass         Age       SibSp  \\\n",
       "count   418.000000  418.000000  418.000000  418.000000  418.000000   \n",
       "mean   1100.500000    0.363636    2.265550   30.272590    0.447368   \n",
       "std     120.810458    0.481622    0.841838   12.634534    0.896760   \n",
       "min     892.000000    0.000000    1.000000    0.170000    0.000000   \n",
       "25%     996.250000    0.000000    1.000000   23.000000    0.000000   \n",
       "50%    1100.500000    0.000000    3.000000   30.272590    0.000000   \n",
       "75%    1204.750000    1.000000    3.000000   35.750000    1.000000   \n",
       "max    1309.000000    1.000000    3.000000   76.000000    8.000000   \n",
       "\n",
       "            Parch        Fare  \n",
       "count  418.000000  418.000000  \n",
       "mean     0.392344   35.627188  \n",
       "std      0.981429   55.840500  \n",
       "min      0.000000    0.000000  \n",
       "25%      0.000000    7.895800  \n",
       "50%      0.000000   14.454200  \n",
       "75%      0.000000   31.500000  \n",
       "max      9.000000  512.329200  "
      ]
     },
     "execution_count": 3,
     "metadata": {},
     "output_type": "execute_result"
    }
   ],
   "source": [
    "#remeive inconsistenv-cy in dataset if any present\n",
    "df1.describe()"
   ]
  },
  {
   "cell_type": "code",
   "execution_count": 4,
   "id": "8a1c53f1-5c21-473c-8961-f2f3b0507b90",
   "metadata": {},
   "outputs": [
    {
     "name": "stdout",
     "output_type": "stream",
     "text": [
      "Survived\n",
      "0    266\n",
      "1    152\n",
      "Name: count, dtype: int64\n",
      "Pclass\n",
      "3    218\n",
      "1    107\n",
      "2     93\n",
      "Name: count, dtype: int64\n",
      "count    418.000000\n",
      "mean      30.272590\n",
      "std       12.634534\n",
      "min        0.170000\n",
      "25%       23.000000\n",
      "50%       30.272590\n",
      "75%       35.750000\n",
      "max       76.000000\n",
      "Name: Age, dtype: float64\n"
     ]
    }
   ],
   "source": [
    "#lets check column wise concistency\n",
    "#PassengerId --  it is just  for identification pupose. alo it is not part of uor futher model as it doesent play any sigificant role on prediction.\n",
    "\n",
    "#Survived\t\n",
    "print(df1['Survived'].value_counts())   #[0,1] value are present \n",
    "#so this is a binary  dateste which is like {died, survived  }  so  this is also a consistent data\n",
    "\n",
    "#Pclass -- indicates passeneger class selected\n",
    "print(df1['Pclass'].value_counts())     #[1,2,3]  these are three classses given for the column, also there is no anytoher vallue found outsied this range\n",
    "#so Pclass is also consistent\n",
    "#for assusrance we can check it \n",
    "df1 = df1[df1['Pclass'].isin([1, 2, 3])]  #  will Ensure no values outside the range of 1 to 3 exist.\n",
    "\n",
    "#Age -- shows passengeers age\n",
    "print(df1['Age'].describe())\n",
    "#data  looks consistent as no -ve value of age , also max vallue of age is 76\n",
    "#further we can check it in our boxplot ot detect any outlier present in this coulmn\n",
    "#same obeserved for further columns also there is no inconsisctency"
   ]
  },
  {
   "cell_type": "code",
   "execution_count": 5,
   "id": "d4404d79-2927-48f6-ac7d-7e3338e4b0df",
   "metadata": {},
   "outputs": [],
   "source": [
    "#OUTLIERS\n",
    "#so ther are outliers in this \n",
    "# Remove rows where SibSp > 4\n",
    "df1 = df1[df1['SibSp'] <= 4]\n",
    "\n",
    "#same way for parch\n",
    "# Remove rows where SibSp > 4 (if considered outliers)\n",
    "df1 = df1[df1['Parch'] <= 4]\n"
   ]
  },
  {
   "cell_type": "code",
   "execution_count": 6,
   "id": "fe71a188-d18d-4014-b950-c7df37f6ed0f",
   "metadata": {},
   "outputs": [],
   "source": [
    "#fpr Fare column outliers\n",
    "\n",
    "# Calculate Q1, Q3, and IQR\n",
    "Q1 = df1['Fare'].quantile(0.25)\n",
    "Q3 = df1['Fare'].quantile(0.75)\n",
    "IQR = Q3 - Q1\n",
    "\n",
    "# Calculate lower and upper bounds\n",
    "lower_bound = Q1 - 1.5 * IQR\n",
    "upper_bound = Q3 + 1.5 * IQR\n",
    "\n",
    "# Filter the data to keep only values within the bounds\n",
    "df1_cleaned = df1[(df1['Fare'] >= lower_bound) & (df1['Fare'] <= upper_bound)]"
   ]
  },
  {
   "cell_type": "code",
   "execution_count": 8,
   "id": "b3a0db87-a41b-496f-b409-c243a36d547a",
   "metadata": {},
   "outputs": [
    {
     "data": {
      "image/png": "[encoded data removed]",
      "text/plain": [
       "<Figure size 800x600 with 1 Axes>"
      ]
     },
     "metadata": {},
     "output_type": "display_data"
    }
   ],
   "source": [
    "import matplotlib.pyplot as plt\n",
    "import seaborn as sns\n",
    "plt.figure(figsize=(8,6))\n",
    "sns.boxplot(x=df1_cleaned['Fare'])\n",
    "plt.title('Boxplot of Fare')\n",
    "plt.show()"
   ]
  },
  {
   "cell_type": "code",
   "execution_count": 9,
   "id": "68eca3db-503e-4f10-aef7-bed1ddfba38e",
   "metadata": {},
   "outputs": [
    {
     "data": {
      "text/html": [
       "<div>\n",
       "<style scoped>\n",
       "    .dataframe tbody tr th:only-of-type {\n",
       "        vertical-align: middle;\n",
       "    }\n",
       "\n",
       "    .dataframe tbody tr th {\n",
       "        vertical-align: top;\n",
       "    }\n",
       "\n",
       "    .dataframe thead th {\n",
       "        text-align: right;\n",
       "    }\n",
       "</style>\n",
       "<table border=\"1\" class=\"dataframe\">\n",
       "  <thead>\n",
       "    <tr style=\"text-align: right;\">\n",
       "      <th></th>\n",
       "      <th>PassengerId</th>\n",
       "      <th>Survived</th>\n",
       "      <th>Pclass</th>\n",
       "      <th>Age</th>\n",
       "      <th>SibSp</th>\n",
       "      <th>Parch</th>\n",
       "      <th>Fare</th>\n",
       "    </tr>\n",
       "  </thead>\n",
       "  <tbody>\n",
       "    <tr>\n",
       "      <th>count</th>\n",
       "      <td>357.000000</td>\n",
       "      <td>357.000000</td>\n",
       "      <td>357.000000</td>\n",
       "      <td>357.000000</td>\n",
       "      <td>357.000000</td>\n",
       "      <td>357.000000</td>\n",
       "      <td>357.000000</td>\n",
       "    </tr>\n",
       "    <tr>\n",
       "      <th>mean</th>\n",
       "      <td>1096.364146</td>\n",
       "      <td>0.338936</td>\n",
       "      <td>2.428571</td>\n",
       "      <td>28.728641</td>\n",
       "      <td>0.358543</td>\n",
       "      <td>0.260504</td>\n",
       "      <td>17.720443</td>\n",
       "    </tr>\n",
       "    <tr>\n",
       "      <th>std</th>\n",
       "      <td>121.116838</td>\n",
       "      <td>0.474012</td>\n",
       "      <td>0.755929</td>\n",
       "      <td>11.293532</td>\n",
       "      <td>0.699330</td>\n",
       "      <td>0.610703</td>\n",
       "      <td>13.653451</td>\n",
       "    </tr>\n",
       "    <tr>\n",
       "      <th>min</th>\n",
       "      <td>892.000000</td>\n",
       "      <td>0.000000</td>\n",
       "      <td>1.000000</td>\n",
       "      <td>0.170000</td>\n",
       "      <td>0.000000</td>\n",
       "      <td>0.000000</td>\n",
       "      <td>0.000000</td>\n",
       "    </tr>\n",
       "    <tr>\n",
       "      <th>25%</th>\n",
       "      <td>992.000000</td>\n",
       "      <td>0.000000</td>\n",
       "      <td>2.000000</td>\n",
       "      <td>22.000000</td>\n",
       "      <td>0.000000</td>\n",
       "      <td>0.000000</td>\n",
       "      <td>7.854200</td>\n",
       "    </tr>\n",
       "    <tr>\n",
       "      <th>50%</th>\n",
       "      <td>1096.000000</td>\n",
       "      <td>0.000000</td>\n",
       "      <td>3.000000</td>\n",
       "      <td>30.000000</td>\n",
       "      <td>0.000000</td>\n",
       "      <td>0.000000</td>\n",
       "      <td>13.000000</td>\n",
       "    </tr>\n",
       "    <tr>\n",
       "      <th>75%</th>\n",
       "      <td>1199.000000</td>\n",
       "      <td>1.000000</td>\n",
       "      <td>3.000000</td>\n",
       "      <td>31.000000</td>\n",
       "      <td>1.000000</td>\n",
       "      <td>0.000000</td>\n",
       "      <td>26.000000</td>\n",
       "    </tr>\n",
       "    <tr>\n",
       "      <th>max</th>\n",
       "      <td>1309.000000</td>\n",
       "      <td>1.000000</td>\n",
       "      <td>3.000000</td>\n",
       "      <td>64.000000</td>\n",
       "      <td>4.000000</td>\n",
       "      <td>4.000000</td>\n",
       "      <td>63.358300</td>\n",
       "    </tr>\n",
       "  </tbody>\n",
       "</table>\n",
       "</div>"
      ],
      "text/plain": [
       "       PassengerId    Survived      Pclass         Age       SibSp  \\\n",
       "count   357.000000  357.000000  357.000000  357.000000  357.000000   \n",
       "mean   1096.364146    0.338936    2.428571   28.728641    0.358543   \n",
       "std     121.116838    0.474012    0.755929   11.293532    0.699330   \n",
       "min     892.000000    0.000000    1.000000    0.170000    0.000000   \n",
       "25%     992.000000    0.000000    2.000000   22.000000    0.000000   \n",
       "50%    1096.000000    0.000000    3.000000   30.000000    0.000000   \n",
       "75%    1199.000000    1.000000    3.000000   31.000000    1.000000   \n",
       "max    1309.000000    1.000000    3.000000   64.000000    4.000000   \n",
       "\n",
       "            Parch        Fare  \n",
       "count  357.000000  357.000000  \n",
       "mean     0.260504   17.720443  \n",
       "std      0.610703   13.653451  \n",
       "min      0.000000    0.000000  \n",
       "25%      0.000000    7.854200  \n",
       "50%      0.000000   13.000000  \n",
       "75%      0.000000   26.000000  \n",
       "max      4.000000   63.358300  "
      ]
     },
     "execution_count": 9,
     "metadata": {},
     "output_type": "execute_result"
    }
   ],
   "source": [
    "df1_cleaned.describe()"
   ]
  },
  {
   "cell_type": "markdown",
   "id": "e4d5c72f-12b4-401d-82e3-013169ce378b",
   "metadata": {},
   "source": [
    "# Assignment-2 actual tasks starts from here"
   ]
  },
  {
   "cell_type": "code",
   "execution_count": 26,
   "id": "7d7c1255-6814-402a-b4e2-6657c7b01130",
   "metadata": {},
   "outputs": [
    {
     "data": {
      "text/plain": [
       "'\\n1-Variance\\n2-Standard Deviation\\n3-Covariance\\n4-Correlation coefficient\\n5-Min max Normalization\\n6-Binning\\n7-Chi Square\\n'"
      ]
     },
     "execution_count": 26,
     "metadata": {},
     "output_type": "execute_result"
    }
   ],
   "source": [
    "#tasks\n",
    "'''\n",
    "1-Variance\n",
    "2-Standard Deviation\n",
    "3-Covariance\n",
    "4-Correlation coefficient\n",
    "5-Min max Normalization\n",
    "6-Binning\n",
    "7-Chi Square\n",
    "'''"
   ]
  },
  {
   "cell_type": "code",
   "execution_count": 11,
   "id": "a94c853f-24c8-4fb3-a4f6-f7190111126b",
   "metadata": {},
   "outputs": [],
   "source": [
    "# 1-Variance\n",
    "#created a seperate logic functionn for this\n",
    "def variance(column):\n",
    "    mean_val = column.mean()\n",
    "    squared_diffs = (column - mean_val) ** 2\n",
    "    var_value=squared_diffs.sum() / (len(column) - 1)\n",
    "    return var_value\n",
    "    "
   ]
  },
  {
   "cell_type": "code",
   "execution_count": 18,
   "id": "414b05f1-b133-4009-bba2-4c2a2fdb0656",
   "metadata": {},
   "outputs": [
    {
     "name": "stdout",
     "output_type": "stream",
     "text": [
      "Variance column-wise\n",
      "PssengerId:  14669.288373776477\n",
      "Survived:  0.22468762786013283\n",
      "Pclass\t:  0.5714285714285715\n",
      "Age:  127.54386263492741\n",
      "SibSp\t:  0.48906304094671577\n",
      "Parch:  0.37295817203285814\n",
      "Fare:  186.4167231566041\n"
     ]
    }
   ],
   "source": [
    "#lets check its result  y comparing built-in and our function call values\n",
    "df1_cleaned['PassengerId'].var()   #14669.288373776477\n",
    "\n",
    "#now our function\n",
    "print(\"Variance column-wise\")\n",
    "print(\"PssengerId: \",variance(df1_cleaned['PassengerId'])) #14669.288373776477\n",
    "#so same value function is working as we wanted\n",
    "\n",
    "print(\"Survived: \",variance(df1_cleaned['Survived']))\n",
    "print(\"Pclass\t: \",variance(df1_cleaned['Pclass']))\n",
    "print(\"Age: \",variance(df1_cleaned['Age']))\n",
    "print(\"SibSp\t: \",variance(df1_cleaned['SibSp']))\n",
    "print(\"Parch: \",variance(df1_cleaned['Parch']))\n",
    "print(\"Fare: \",variance(df1_cleaned['Fare']))"
   ]
  },
  {
   "cell_type": "code",
   "execution_count": 23,
   "id": "ec3c0666-9e72-4de9-84f8-50c402afe622",
   "metadata": {},
   "outputs": [],
   "source": [
    "#2-Standard Deviation\n",
    "\n",
    "\n",
    "#std_dev = variance ** 0.5\n",
    "\n",
    "def std_dev(column):\n",
    "    var1=variance(column)\n",
    "    std_d = var1 ** 0.5\n",
    "    return std_d"
   ]
  },
  {
   "cell_type": "code",
   "execution_count": 25,
   "id": "69bbb526-2079-4764-87d5-260f648a31ad",
   "metadata": {},
   "outputs": [
    {
     "name": "stdout",
     "output_type": "stream",
     "text": [
      "0.47401226551655057\n",
      "Standard Deviation column-wise\n",
      "PssengerId:  121.11683769722721\n",
      "Survived:  0.47401226551655057\n",
      "Pclass\t:  0.7559289460184545\n",
      "Age:  11.293531893740214\n",
      "SibSp\t:  0.6993304232955376\n",
      "Parch:  0.6107030145929019\n",
      "Fare:  13.653450961445758\n"
     ]
    }
   ],
   "source": [
    "#lets check accuracy\n",
    "df1_cleaned['Survived'].std()  #0.47401226551655\n",
    "print(std_dev(df1_cleaned['Survived'])) #0.47401226551655057\n",
    "#its workin well\n",
    "\n",
    "\n",
    "print(\"Standard Deviation column-wise\")\n",
    "\n",
    "print(\"PssengerId: \",std_dev(df1_cleaned['PassengerId']))\n",
    "print(\"Survived: \",std_dev(df1_cleaned['Survived']))\n",
    "print(\"Pclass\t: \",std_dev(df1_cleaned['Pclass']))\n",
    "print(\"Age: \",std_dev(df1_cleaned['Age']))\n",
    "print(\"SibSp\t: \",std_dev(df1_cleaned['SibSp']))\n",
    "print(\"Parch: \",std_dev(df1_cleaned['Parch']))\n",
    "print(\"Fare: \",std_dev(df1_cleaned['Fare']))\n"
   ]
  },
  {
   "cell_type": "code",
   "execution_count": 27,
   "id": "54df190f-a920-47b6-aa8e-146f5b68e115",
   "metadata": {},
   "outputs": [
    {
     "name": "stdout",
     "output_type": "stream",
     "text": [
      "-0.3772641514978808\n"
     ]
    }
   ],
   "source": [
    "#3- Covarince\n",
    "def covariance(col1, col2):\n",
    "    mean_col1 = col1.mean()\n",
    "    mean_col2 = col2.mean()\n",
    "    cov = ((col1 - mean_col1) * (col2 - mean_col2)).sum() / (len(col1) - 1)\n",
    "    return cov\n",
    "\n",
    "print(covariance(df1_cleaned['Survived'],df1_cleaned['Age']))"
   ]
  },
  {
   "cell_type": "code",
   "execution_count": 28,
   "id": "9d6a7c22-5048-4608-84e8-d6312a9a370e",
   "metadata": {},
   "outputs": [
    {
     "data": {
      "text/plain": [
       "'Since the value is negative, it suggests an inverse relationship between Survived and Age.\\nThis means older people tended to survive less compared to younger ones.\\nthe magnitude (-0.377) is small, meaning the relationship is weak.\\nBut ther is relationship in this is true. it may be due to child are balancing the old age people as they cant swim this may be the reasoon.\\nso we can say middle aged people have more chances of survival\\n'"
      ]
     },
     "execution_count": 28,
     "metadata": {},
     "output_type": "execute_result"
    }
   ],
   "source": [
    "#comment on it\n",
    "'''Since the value is negative, it suggests an inverse relationship between Survived and Age.\n",
    "This means older people tended to survive less compared to younger ones.\n",
    "the magnitude (-0.377) is small, meaning the relationship is weak.\n",
    "But ther is relationship in this is true. it may be due to child are balancing the old age people as they cant swim this may be the reasoon.\n",
    "so we can say middle aged people have more chances of survival\n",
    "'''"
   ]
  },
  {
   "cell_type": "code",
   "execution_count": 29,
   "id": "3a4a3ba7-adb7-457c-aabd-85955268c909",
   "metadata": {},
   "outputs": [
    {
     "name": "stdout",
     "output_type": "stream",
     "text": [
      "Correlation Coefficient of SURVIVED and AGE: -0.07047355458325055\n"
     ]
    }
   ],
   "source": [
    "#4-Correlation Coefficient Function\n",
    "def correlation_coefficient(col1, col2):\n",
    "    cov = covariance(col1, col2)\n",
    "    std_col1 = std_dev(col1)  #used our above function\n",
    "    std_col2 = std_dev(col2)  \n",
    "    return cov / (std_col1 * std_col2)  # Pearson correlation formula\n",
    "print(\"Correlation Coefficient of SURVIVED and AGE:\", correlation_coefficient(df1_cleaned['Survived'],df1_cleaned['Age']))"
   ]
  },
  {
   "cell_type": "code",
   "execution_count": 30,
   "id": "606decec-f14a-46a0-9b09-f183c1a54dce",
   "metadata": {},
   "outputs": [],
   "source": [
    "#same reason here also as in previous assignment we have seen there V/S graph has spike at middle"
   ]
  },
  {
   "cell_type": "code",
   "execution_count": 33,
   "id": "9328a69f-c879-45d7-a8ae-a29d526e2387",
   "metadata": {},
   "outputs": [
    {
     "data": {
      "text/plain": [
       "Text(0, 0.5, 'Frequency')"
      ]
     },
     "execution_count": 33,
     "metadata": {},
     "output_type": "execute_result"
    },
    {
     "data": {
      "image/png": "[encoded data removed]",
      "text/plain": [
       "<Figure size 1400x600 with 1 Axes>"
      ]
     },
     "metadata": {},
     "output_type": "display_data"
    }
   ],
   "source": [
    "#5-Min max Normalization\n",
    "import numpy as np\n",
    "min1=np.min(df1_cleaned['Age'])\n",
    "max1=np.max(df1_cleaned['Age'])\n",
    "\n",
    "#min-max normalization\n",
    "normalized_data=[( x- min1) / (max1- min1) for x in df1_cleaned['Age']]\n",
    "\n",
    "plt.figure(figsize=(14, 6))\n",
    "sns.histplot(normalized_data, kde=True, color='skyblue', bins=20)\n",
    "plt.title('Distribution of Age')\n",
    "plt.xlabel('Age')\n",
    "plt.ylabel('Frequency')\n",
    "                 "
   ]
  },
  {
   "cell_type": "code",
   "execution_count": null,
   "id": "fac4de4f-3d96-4244-b5c7-9f206f5e9340",
   "metadata": {},
   "outputs": [],
   "source": []
  }
 ],
 "metadata": {
  "kernelspec": {
   "display_name": "Python 3 (ipykernel)",
   "language": "python",
   "name": "python3"
  },
  "language_info": {
   "codemirror_mode": {
    "name": "ipython",
    "version": 3
   },
   "file_extension": ".py",
   "mimetype": "text/x-python",
   "name": "python",
   "nbconvert_exporter": "python",
   "pygments_lexer": "ipython3",
   "version": "3.12.7"
  }
 },
 "nbformat": 4,
 "nbformat_minor": 5
}
