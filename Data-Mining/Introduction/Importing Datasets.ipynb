{
 "cells": [
  {
   "cell_type": "code",
   "execution_count": 2,
   "id": "614aebb6-0c7c-40bb-a53b-d3ee43b3aeda",
   "metadata": {},
   "outputs": [
    {
     "name": "stdout",
     "output_type": "stream",
     "text": [
      "Collecting kaggle\n",
      "  Downloading kaggle-1.6.17.tar.gz (82 kB)\n",
      "     ---------------------------------------- 0.0/82.7 kB ? eta -:--:--\n",
      "     ---- ----------------------------------- 10.2/82.7 kB ? eta -:--:--\n",
      "     -------------- ----------------------- 30.7/82.7 kB 435.7 kB/s eta 0:00:01\n",
      "     -------------------------------------- 82.7/82.7 kB 770.8 kB/s eta 0:00:00\n",
      "  Preparing metadata (setup.py): started\n",
      "  Preparing metadata (setup.py): finished with status 'done'\n",
      "Requirement already satisfied: six>=1.10 in c:\\users\\viren\\anaconda3\\lib\\site-packages (from kaggle) (1.16.0)\n",
      "Requirement already satisfied: certifi>=2023.7.22 in c:\\users\\viren\\anaconda3\\lib\\site-packages (from kaggle) (2024.7.4)\n",
      "Requirement already satisfied: python-dateutil in c:\\users\\viren\\anaconda3\\lib\\site-packages (from kaggle) (2.8.2)\n",
      "Requirement already satisfied: requests in c:\\users\\viren\\anaconda3\\lib\\site-packages (from kaggle) (2.31.0)\n",
      "Requirement already satisfied: tqdm in c:\\users\\viren\\anaconda3\\lib\\site-packages (from kaggle) (4.65.0)\n",
      "Requirement already satisfied: python-slugify in c:\\users\\viren\\anaconda3\\lib\\site-packages (from kaggle) (5.0.2)\n",
      "Requirement already satisfied: urllib3 in c:\\users\\viren\\anaconda3\\lib\\site-packages (from kaggle) (2.0.7)\n",
      "Requirement already satisfied: bleach in c:\\users\\viren\\anaconda3\\lib\\site-packages (from kaggle) (4.1.0)\n",
      "Requirement already satisfied: packaging in c:\\users\\viren\\anaconda3\\lib\\site-packages (from bleach->kaggle) (23.1)\n",
      "Requirement already satisfied: webencodings in c:\\users\\viren\\anaconda3\\lib\\site-packages (from bleach->kaggle) (0.5.1)\n",
      "Requirement already satisfied: text-unidecode>=1.3 in c:\\users\\viren\\anaconda3\\lib\\site-packages (from python-slugify->kaggle) (1.3)\n",
      "Requirement already satisfied: charset-normalizer<4,>=2 in c:\\users\\viren\\anaconda3\\lib\\site-packages (from requests->kaggle) (2.0.4)\n",
      "Requirement already satisfied: idna<4,>=2.5 in c:\\users\\viren\\anaconda3\\lib\\site-packages (from requests->kaggle) (3.4)\n",
      "Requirement already satisfied: colorama in c:\\users\\viren\\anaconda3\\lib\\site-packages (from tqdm->kaggle) (0.4.6)\n",
      "Building wheels for collected packages: kaggle\n",
      "  Building wheel for kaggle (setup.py): started\n",
      "  Building wheel for kaggle (setup.py): finished with status 'done'\n",
      "  Created wheel for kaggle: filename=kaggle-1.6.17-py3-none-any.whl size=105796 sha256=40fe78acf992bf07f8d026967d7d70b78c0b02918c1341e36ed590060ecb38f1\n",
      "  Stored in directory: c:\\users\\viren\\appdata\\local\\pip\\cache\\wheels\\ff\\55\\fb\\b27a466be754d2a06ffe0e37b248d844f090a63b51becea85d\n",
      "Successfully built kaggle\n",
      "Installing collected packages: kaggle\n",
      "Successfully installed kaggle-1.6.17\n",
      "Note: you may need to restart the kernel to use updated packages.\n"
     ]
    }
   ],
   "source": [
    "pip install kaggle\n"
   ]
  },
  {
   "cell_type": "code",
   "execution_count": 4,
   "id": "bd4957cd-1d2a-4c54-91b9-30ff5c99ee05",
   "metadata": {},
   "outputs": [
    {
     "name": "stdout",
     "output_type": "stream",
     "text": [
      "Dataset URL: https://www.kaggle.com/datasets/ankushpanday1/india-statewise-daily-temperature-for-dec-2024\n"
     ]
    }
   ],
   "source": [
    "#{\"username\":\"virendraghule\",\"key\":\"a2a53f7669dafbede2176de5a4fcfb4d\"}\n",
    "\n",
    "from kaggle.api.kaggle_api_extended import KaggleApi\n",
    "\n",
    "api = KaggleApi()\n",
    "api.authenticate()\n",
    "api.dataset_download_files('ankushpanday1/india-statewise-daily-temperature-for-dec-2024', path='.', unzip=True)\n"
   ]
  },
  {
   "cell_type": "code",
   "execution_count": 7,
   "id": "0b8aaba4-266a-42ff-aa95-1a5c6cb78a1d",
   "metadata": {},
   "outputs": [
    {
     "name": "stdout",
     "output_type": "stream",
     "text": [
      "Dataset URL: https://www.kaggle.com/datasets/jackksoncsie/spam-email-dataset\n"
     ]
    }
   ],
   "source": [
    "api.dataset_download_files('jackksoncsie/spam-email-dataset', path='.', unzip=True)\n"
   ]
  },
  {
   "cell_type": "code",
   "execution_count": 8,
   "id": "03157b69-46b4-4d73-821b-e4ee0a433b85",
   "metadata": {},
   "outputs": [
    {
     "name": "stdout",
     "output_type": "stream",
     "text": [
      "Dataset URL: https://www.kaggle.com/datasets/kazanova/sentiment140\n"
     ]
    }
   ],
   "source": [
    "api.dataset_download_files('kazanova/sentiment140', path='.', unzip=True)\n"
   ]
  },
  {
   "cell_type": "code",
   "execution_count": 9,
   "id": "095cac76-1c4b-4df6-87fc-75eca7632fc8",
   "metadata": {},
   "outputs": [
    {
     "name": "stdout",
     "output_type": "stream",
     "text": [
      "Dataset URL: https://www.kaggle.com/datasets/puzanov/top-200-universities-in-north-america\n"
     ]
    }
   ],
   "source": [
    "api.dataset_download_files('puzanov/top-200-universities-in-north-america', path='.', unzip=True)\n"
   ]
  },
  {
   "cell_type": "code",
   "execution_count": 10,
   "id": "41e6311c-f9ab-49eb-98ae-cc9237ebe0a4",
   "metadata": {},
   "outputs": [
    {
     "name": "stdout",
     "output_type": "stream",
     "text": [
      "Dataset URL: https://www.kaggle.com/datasets/snmahsa/soil-nutrients\n"
     ]
    }
   ],
   "source": [
    "api.dataset_download_files('snmahsa/soil-nutrients', path='.', unzip=True)\n"
   ]
  },
  {
   "cell_type": "code",
   "execution_count": 11,
   "id": "32ffe4da-2ae6-4cb8-a791-ea8993fd6585",
   "metadata": {},
   "outputs": [
    {
     "name": "stdout",
     "output_type": "stream",
     "text": [
      "Dataset URL: https://www.kaggle.com/datasets/vijayveersingh/the-california-wildfire-data\n"
     ]
    }
   ],
   "source": [
    "api.dataset_download_files('vijayveersingh/the-california-wildfire-data', path='.', unzip=True)\n"
   ]
  },
  {
   "cell_type": "code",
   "execution_count": 12,
   "id": "5a08551b-d5e2-4249-8950-2b6d3250e87f",
   "metadata": {},
   "outputs": [
    {
     "name": "stdout",
     "output_type": "stream",
     "text": [
      "Dataset URL: https://www.kaggle.com/datasets/luisheitorribeiro/netflix-movie-ratings\n"
     ]
    }
   ],
   "source": [
    "api.dataset_download_files('luisheitorribeiro/netflix-movie-ratings', path='.', unzip=True)\n"
   ]
  },
  {
   "cell_type": "code",
   "execution_count": 13,
   "id": "a9db435c-9aec-4449-948d-6dd69cab7f2e",
   "metadata": {},
   "outputs": [
    {
     "name": "stdout",
     "output_type": "stream",
     "text": [
      "Dataset URL: https://www.kaggle.com/datasets/huzpsb/cybersecurity-incidents-dataset\n"
     ]
    }
   ],
   "source": [
    "api.dataset_download_files('huzpsb/cybersecurity-incidents-dataset', path='.', unzip=True)\n"
   ]
  },
  {
   "cell_type": "code",
   "execution_count": 17,
   "id": "a83ce53d-4ff1-4a20-915e-35925270bee0",
   "metadata": {},
   "outputs": [
    {
     "name": "stdout",
     "output_type": "stream",
     "text": [
      "Dataset URL: https://www.kaggle.com/datasets/himanshupoddar/zomato-bangalore-restaurants\n"
     ]
    }
   ],
   "source": [
    "api.dataset_download_files('himanshupoddar/zomato-bangalore-restaurants', path='.', unzip=True)\n"
   ]
  },
  {
   "cell_type": "code",
   "execution_count": 15,
   "id": "f2cb01e9-28b6-482b-a4aa-4464f1a2e845",
   "metadata": {},
   "outputs": [
    {
     "name": "stdout",
     "output_type": "stream",
     "text": [
      "Dataset URL: https://www.kaggle.com/datasets/vijayveersingh/fatal-covid-19-gene-data\n"
     ]
    }
   ],
   "source": [
    "api.dataset_download_files('vijayveersingh/fatal-covid-19-gene-data', path='.', unzip=True)\n"
   ]
  },
  {
   "cell_type": "code",
   "execution_count": 16,
   "id": "aee76cc3-66c1-4dd1-b4d7-231df13b1d4a",
   "metadata": {},
   "outputs": [
    {
     "name": "stdout",
     "output_type": "stream",
     "text": [
      "Downloading dataset: mathan/fifa-2022-complete-statistics\n",
      "Dataset URL: https://www.kaggle.com/datasets/mathan/fifa-2022-complete-statistics\n"
     ]
    },
    {
     "ename": "ApiException",
     "evalue": "(403)\nReason: Forbidden\nHTTP response headers: HTTPHeaderDict({'Content-Type': 'application/json', 'Date': 'Mon, 27 Jan 2025 05:51:48 GMT', 'Access-Control-Allow-Credentials': 'true', 'Access-Control-Allow-Origin': '*', 'Set-Cookie': 'ka_sessionid=0038d2e3aff63242a96651b6cb76d730; max-age=2626560; path=/, GCLB=COeAlcyd7dH4sQEQAw; path=/; HttpOnly', 'Vary': 'Accept-Encoding', 'X-Kaggle-MillisecondsElapsed': '10', 'X-Kaggle-RequestId': '449b67e2efe7474e066ab92aefe982bb', 'X-Kaggle-ApiVersion': '1.6.17', 'X-Kaggle-HubVersion': '0.3.6', 'X-Frame-Options': 'SAMEORIGIN', 'Strict-Transport-Security': 'max-age=63072000; includeSubDomains; preload', 'Content-Security-Policy': \"object-src 'none'; script-src 'nonce-l282o8gYpmVASKvvyx8Hbg==' 'report-sample' 'unsafe-inline' 'unsafe-eval' 'strict-dynamic' https: http:; base-uri 'none'; report-uri https://csp.withgoogle.com/csp/kaggle/20201130; frame-src 'self' https://www.kaggleusercontent.com https://www.youtube.com/embed/ https://polygraph-cool.github.io https://www.google.com/recaptcha/ https://www.docdroid.com https://www.docdroid.net https://kaggle-static.storage.googleapis.com https://kkb-production.jupyter-proxy.kaggle.net https://kkb-production.firebaseapp.com https://kaggle-metastore.firebaseapp.com https://apis.google.com https://content-sheets.googleapis.com/ https://accounts.google.com/ https://storage.googleapis.com https://docs.google.com https://drive.google.com https://calendar.google.com/ https://google.qualtrics.com/ ;\", 'X-Content-Type-Options': 'nosniff', 'Referrer-Policy': 'strict-origin-when-cross-origin', 'Via': '1.1 google', 'Alt-Svc': 'h3=\":443\"; ma=2592000,h3-29=\":443\"; ma=2592000', 'Transfer-Encoding': 'chunked'})\nHTTP response body: b'{\"code\":403,\"message\":\"Permission \\\\u0027datasets.get\\\\u0027 was denied\"}'\n",
     "output_type": "error",
     "traceback": [
      "\u001b[1;31m---------------------------------------------------------------------------\u001b[0m",
      "\u001b[1;31mApiException\u001b[0m                              Traceback (most recent call last)",
      "Cell \u001b[1;32mIn[16], line 55\u001b[0m\n\u001b[0;32m     46\u001b[0m datasets_to_download \u001b[38;5;241m=\u001b[39m [\n\u001b[0;32m     47\u001b[0m     \u001b[38;5;124m\"\u001b[39m\u001b[38;5;124mmathan/fifa-2022-complete-statistics\u001b[39m\u001b[38;5;124m\"\u001b[39m,\n\u001b[0;32m     48\u001b[0m     \u001b[38;5;124m\"\u001b[39m\u001b[38;5;124mashishjangra27/face-mask-12k-images-dataset\u001b[39m\u001b[38;5;124m\"\u001b[39m,\n\u001b[1;32m   (...)\u001b[0m\n\u001b[0;32m     51\u001b[0m     \u001b[38;5;124m\"\u001b[39m\u001b[38;5;124mlavanya321/covid19-data\u001b[39m\u001b[38;5;124m\"\u001b[39m \n\u001b[0;32m     52\u001b[0m ]\n\u001b[0;32m     54\u001b[0m \u001b[38;5;66;03m# Download datasets\u001b[39;00m\n\u001b[1;32m---> 55\u001b[0m download_additional_datasets(datasets_to_download)\n",
      "Cell \u001b[1;32mIn[16], line 25\u001b[0m, in \u001b[0;36mdownload_additional_datasets\u001b[1;34m(dataset_ids, download_path)\u001b[0m\n\u001b[0;32m     23\u001b[0m dataset_folder \u001b[38;5;241m=\u001b[39m os\u001b[38;5;241m.\u001b[39mpath\u001b[38;5;241m.\u001b[39mjoin(download_path, dataset_id\u001b[38;5;241m.\u001b[39msplit(\u001b[38;5;124m\"\u001b[39m\u001b[38;5;124m/\u001b[39m\u001b[38;5;124m\"\u001b[39m)[\u001b[38;5;241m-\u001b[39m\u001b[38;5;241m1\u001b[39m])\n\u001b[0;32m     24\u001b[0m os\u001b[38;5;241m.\u001b[39mmakedirs(dataset_folder, exist_ok\u001b[38;5;241m=\u001b[39m\u001b[38;5;28;01mTrue\u001b[39;00m)\n\u001b[1;32m---> 25\u001b[0m api\u001b[38;5;241m.\u001b[39mdataset_download_files(dataset_id, path\u001b[38;5;241m=\u001b[39mdataset_folder, unzip\u001b[38;5;241m=\u001b[39m\u001b[38;5;28;01mTrue\u001b[39;00m)\n\u001b[0;32m     27\u001b[0m \u001b[38;5;66;03m# Find the first CSV file and save it in the main directory\u001b[39;00m\n\u001b[0;32m     28\u001b[0m \u001b[38;5;28;01mfor\u001b[39;00m file_name \u001b[38;5;129;01min\u001b[39;00m os\u001b[38;5;241m.\u001b[39mlistdir(dataset_folder):\n",
      "File \u001b[1;32m~\\anaconda3\\Lib\\site-packages\\kaggle\\api\\kaggle_api_extended.py:1502\u001b[0m, in \u001b[0;36mKaggleApi.dataset_download_files\u001b[1;34m(self, dataset, path, force, quiet, unzip, licenses)\u001b[0m\n\u001b[0;32m   1496\u001b[0m     effective_path \u001b[38;5;241m=\u001b[39m path\n\u001b[0;32m   1498\u001b[0m \u001b[38;5;28mself\u001b[39m\u001b[38;5;241m.\u001b[39m_print_dataset_url_and_license(owner_slug, dataset_slug,\n\u001b[0;32m   1499\u001b[0m                                     dataset_version_number, licenses)\n\u001b[0;32m   1501\u001b[0m response \u001b[38;5;241m=\u001b[39m \u001b[38;5;28mself\u001b[39m\u001b[38;5;241m.\u001b[39mprocess_response(\n\u001b[1;32m-> 1502\u001b[0m     \u001b[38;5;28mself\u001b[39m\u001b[38;5;241m.\u001b[39mdatasets_download_with_http_info(\n\u001b[0;32m   1503\u001b[0m         owner_slug\u001b[38;5;241m=\u001b[39mowner_slug,\n\u001b[0;32m   1504\u001b[0m         dataset_slug\u001b[38;5;241m=\u001b[39mdataset_slug,\n\u001b[0;32m   1505\u001b[0m         dataset_version_number\u001b[38;5;241m=\u001b[39mdataset_version_number,\n\u001b[0;32m   1506\u001b[0m         _preload_content\u001b[38;5;241m=\u001b[39m\u001b[38;5;28;01mFalse\u001b[39;00m))\n\u001b[0;32m   1508\u001b[0m outfile \u001b[38;5;241m=\u001b[39m os\u001b[38;5;241m.\u001b[39mpath\u001b[38;5;241m.\u001b[39mjoin(effective_path, dataset_slug \u001b[38;5;241m+\u001b[39m \u001b[38;5;124m'\u001b[39m\u001b[38;5;124m.zip\u001b[39m\u001b[38;5;124m'\u001b[39m)\n\u001b[0;32m   1509\u001b[0m \u001b[38;5;28;01mif\u001b[39;00m force \u001b[38;5;129;01mor\u001b[39;00m \u001b[38;5;28mself\u001b[39m\u001b[38;5;241m.\u001b[39mdownload_needed(response, outfile, quiet):\n",
      "File \u001b[1;32m~\\anaconda3\\Lib\\site-packages\\kaggle\\api\\kaggle_api.py:1555\u001b[0m, in \u001b[0;36mKaggleApi.datasets_download_with_http_info\u001b[1;34m(self, owner_slug, dataset_slug, **kwargs)\u001b[0m\n\u001b[0;32m   1552\u001b[0m \u001b[38;5;66;03m# Authentication setting\u001b[39;00m\n\u001b[0;32m   1553\u001b[0m auth_settings \u001b[38;5;241m=\u001b[39m [\u001b[38;5;124m'\u001b[39m\u001b[38;5;124mbasicAuth\u001b[39m\u001b[38;5;124m'\u001b[39m]  \u001b[38;5;66;03m# noqa: E501\u001b[39;00m\n\u001b[1;32m-> 1555\u001b[0m \u001b[38;5;28;01mreturn\u001b[39;00m \u001b[38;5;28mself\u001b[39m\u001b[38;5;241m.\u001b[39mapi_client\u001b[38;5;241m.\u001b[39mcall_api(\n\u001b[0;32m   1556\u001b[0m     \u001b[38;5;124m'\u001b[39m\u001b[38;5;124m/datasets/download/\u001b[39m\u001b[38;5;132;01m{ownerSlug}\u001b[39;00m\u001b[38;5;124m/\u001b[39m\u001b[38;5;132;01m{datasetSlug}\u001b[39;00m\u001b[38;5;124m'\u001b[39m, \u001b[38;5;124m'\u001b[39m\u001b[38;5;124mGET\u001b[39m\u001b[38;5;124m'\u001b[39m,\n\u001b[0;32m   1557\u001b[0m     path_params,\n\u001b[0;32m   1558\u001b[0m     query_params,\n\u001b[0;32m   1559\u001b[0m     header_params,\n\u001b[0;32m   1560\u001b[0m     body\u001b[38;5;241m=\u001b[39mbody_params,\n\u001b[0;32m   1561\u001b[0m     post_params\u001b[38;5;241m=\u001b[39mform_params,\n\u001b[0;32m   1562\u001b[0m     files\u001b[38;5;241m=\u001b[39mlocal_var_files,\n\u001b[0;32m   1563\u001b[0m     response_type\u001b[38;5;241m=\u001b[39m\u001b[38;5;124m'\u001b[39m\u001b[38;5;124mResult\u001b[39m\u001b[38;5;124m'\u001b[39m,  \u001b[38;5;66;03m# noqa: E501\u001b[39;00m\n\u001b[0;32m   1564\u001b[0m     auth_settings\u001b[38;5;241m=\u001b[39mauth_settings,\n\u001b[0;32m   1565\u001b[0m     async_req\u001b[38;5;241m=\u001b[39mparams\u001b[38;5;241m.\u001b[39mget(\u001b[38;5;124m'\u001b[39m\u001b[38;5;124masync_req\u001b[39m\u001b[38;5;124m'\u001b[39m),\n\u001b[0;32m   1566\u001b[0m     _return_http_data_only\u001b[38;5;241m=\u001b[39mparams\u001b[38;5;241m.\u001b[39mget(\u001b[38;5;124m'\u001b[39m\u001b[38;5;124m_return_http_data_only\u001b[39m\u001b[38;5;124m'\u001b[39m),\n\u001b[0;32m   1567\u001b[0m     _preload_content\u001b[38;5;241m=\u001b[39mparams\u001b[38;5;241m.\u001b[39mget(\u001b[38;5;124m'\u001b[39m\u001b[38;5;124m_preload_content\u001b[39m\u001b[38;5;124m'\u001b[39m, \u001b[38;5;28;01mTrue\u001b[39;00m),\n\u001b[0;32m   1568\u001b[0m     _request_timeout\u001b[38;5;241m=\u001b[39mparams\u001b[38;5;241m.\u001b[39mget(\u001b[38;5;124m'\u001b[39m\u001b[38;5;124m_request_timeout\u001b[39m\u001b[38;5;124m'\u001b[39m),\n\u001b[0;32m   1569\u001b[0m     collection_formats\u001b[38;5;241m=\u001b[39mcollection_formats)\n",
      "File \u001b[1;32m~\\anaconda3\\Lib\\site-packages\\kaggle\\api_client.py:313\u001b[0m, in \u001b[0;36mApiClient.call_api\u001b[1;34m(self, resource_path, method, path_params, query_params, header_params, body, post_params, files, response_type, auth_settings, async_req, _return_http_data_only, collection_formats, _preload_content, _request_timeout)\u001b[0m\n\u001b[0;32m    276\u001b[0m \u001b[38;5;250m\u001b[39m\u001b[38;5;124;03m\"\"\"Makes the HTTP request (synchronous) and returns deserialized data.\u001b[39;00m\n\u001b[0;32m    277\u001b[0m \n\u001b[0;32m    278\u001b[0m \u001b[38;5;124;03mTo make an async request, set the async_req parameter.\u001b[39;00m\n\u001b[1;32m   (...)\u001b[0m\n\u001b[0;32m    310\u001b[0m \u001b[38;5;124;03m    then the method will return the response directly.\u001b[39;00m\n\u001b[0;32m    311\u001b[0m \u001b[38;5;124;03m\"\"\"\u001b[39;00m\n\u001b[0;32m    312\u001b[0m \u001b[38;5;28;01mif\u001b[39;00m \u001b[38;5;129;01mnot\u001b[39;00m async_req:\n\u001b[1;32m--> 313\u001b[0m     \u001b[38;5;28;01mreturn\u001b[39;00m \u001b[38;5;28mself\u001b[39m\u001b[38;5;241m.\u001b[39m__call_api(resource_path, method,\n\u001b[0;32m    314\u001b[0m                            path_params, query_params, header_params,\n\u001b[0;32m    315\u001b[0m                            body, post_params, files,\n\u001b[0;32m    316\u001b[0m                            response_type, auth_settings,\n\u001b[0;32m    317\u001b[0m                            _return_http_data_only, collection_formats,\n\u001b[0;32m    318\u001b[0m                            _preload_content, _request_timeout)\n\u001b[0;32m    319\u001b[0m \u001b[38;5;28;01melse\u001b[39;00m:\n\u001b[0;32m    320\u001b[0m     thread \u001b[38;5;241m=\u001b[39m \u001b[38;5;28mself\u001b[39m\u001b[38;5;241m.\u001b[39mpool\u001b[38;5;241m.\u001b[39mapply_async(\u001b[38;5;28mself\u001b[39m\u001b[38;5;241m.\u001b[39m__call_api, (resource_path,\n\u001b[0;32m    321\u001b[0m                                    method, path_params, query_params,\n\u001b[0;32m    322\u001b[0m                                    header_params, body,\n\u001b[1;32m   (...)\u001b[0m\n\u001b[0;32m    326\u001b[0m                                    collection_formats,\n\u001b[0;32m    327\u001b[0m                                    _preload_content, _request_timeout))\n",
      "File \u001b[1;32m~\\anaconda3\\Lib\\site-packages\\kaggle\\api_client.py:145\u001b[0m, in \u001b[0;36mApiClient.__call_api\u001b[1;34m(self, resource_path, method, path_params, query_params, header_params, body, post_params, files, response_type, auth_settings, _return_http_data_only, collection_formats, _preload_content, _request_timeout)\u001b[0m\n\u001b[0;32m    142\u001b[0m url \u001b[38;5;241m=\u001b[39m \u001b[38;5;28mself\u001b[39m\u001b[38;5;241m.\u001b[39mconfiguration\u001b[38;5;241m.\u001b[39mhost \u001b[38;5;241m+\u001b[39m resource_path\n\u001b[0;32m    144\u001b[0m \u001b[38;5;66;03m# perform request and return response\u001b[39;00m\n\u001b[1;32m--> 145\u001b[0m response_data \u001b[38;5;241m=\u001b[39m \u001b[38;5;28mself\u001b[39m\u001b[38;5;241m.\u001b[39mrequest(\n\u001b[0;32m    146\u001b[0m     method, url, query_params\u001b[38;5;241m=\u001b[39mquery_params, headers\u001b[38;5;241m=\u001b[39mheader_params,\n\u001b[0;32m    147\u001b[0m     post_params\u001b[38;5;241m=\u001b[39mpost_params, body\u001b[38;5;241m=\u001b[39mbody,\n\u001b[0;32m    148\u001b[0m     _preload_content\u001b[38;5;241m=\u001b[39m_preload_content,\n\u001b[0;32m    149\u001b[0m     _request_timeout\u001b[38;5;241m=\u001b[39m_request_timeout)\n\u001b[0;32m    151\u001b[0m \u001b[38;5;28mself\u001b[39m\u001b[38;5;241m.\u001b[39mlast_response \u001b[38;5;241m=\u001b[39m response_data\n\u001b[0;32m    153\u001b[0m return_data \u001b[38;5;241m=\u001b[39m response_data\n",
      "File \u001b[1;32m~\\anaconda3\\Lib\\site-packages\\kaggle\\api_client.py:335\u001b[0m, in \u001b[0;36mApiClient.request\u001b[1;34m(self, method, url, query_params, headers, post_params, body, _preload_content, _request_timeout)\u001b[0m\n\u001b[0;32m    333\u001b[0m \u001b[38;5;250m\u001b[39m\u001b[38;5;124;03m\"\"\"Makes the HTTP request using RESTClient.\"\"\"\u001b[39;00m\n\u001b[0;32m    334\u001b[0m \u001b[38;5;28;01mif\u001b[39;00m method \u001b[38;5;241m==\u001b[39m \u001b[38;5;124m\"\u001b[39m\u001b[38;5;124mGET\u001b[39m\u001b[38;5;124m\"\u001b[39m:\n\u001b[1;32m--> 335\u001b[0m     \u001b[38;5;28;01mreturn\u001b[39;00m \u001b[38;5;28mself\u001b[39m\u001b[38;5;241m.\u001b[39mrest_client\u001b[38;5;241m.\u001b[39mGET(url,\n\u001b[0;32m    336\u001b[0m                                 query_params\u001b[38;5;241m=\u001b[39mquery_params,\n\u001b[0;32m    337\u001b[0m                                 _preload_content\u001b[38;5;241m=\u001b[39m_preload_content,\n\u001b[0;32m    338\u001b[0m                                 _request_timeout\u001b[38;5;241m=\u001b[39m_request_timeout,\n\u001b[0;32m    339\u001b[0m                                 headers\u001b[38;5;241m=\u001b[39mheaders)\n\u001b[0;32m    340\u001b[0m \u001b[38;5;28;01melif\u001b[39;00m method \u001b[38;5;241m==\u001b[39m \u001b[38;5;124m\"\u001b[39m\u001b[38;5;124mHEAD\u001b[39m\u001b[38;5;124m\"\u001b[39m:\n\u001b[0;32m    341\u001b[0m     \u001b[38;5;28;01mreturn\u001b[39;00m \u001b[38;5;28mself\u001b[39m\u001b[38;5;241m.\u001b[39mrest_client\u001b[38;5;241m.\u001b[39mHEAD(url,\n\u001b[0;32m    342\u001b[0m                                  query_params\u001b[38;5;241m=\u001b[39mquery_params,\n\u001b[0;32m    343\u001b[0m                                  _preload_content\u001b[38;5;241m=\u001b[39m_preload_content,\n\u001b[0;32m    344\u001b[0m                                  _request_timeout\u001b[38;5;241m=\u001b[39m_request_timeout,\n\u001b[0;32m    345\u001b[0m                                  headers\u001b[38;5;241m=\u001b[39mheaders)\n",
      "File \u001b[1;32m~\\anaconda3\\Lib\\site-packages\\kaggle\\rest.py:231\u001b[0m, in \u001b[0;36mRESTClientObject.GET\u001b[1;34m(self, url, headers, query_params, _preload_content, _request_timeout)\u001b[0m\n\u001b[0;32m    229\u001b[0m \u001b[38;5;28;01mdef\u001b[39;00m \u001b[38;5;21mGET\u001b[39m(\u001b[38;5;28mself\u001b[39m, url, headers\u001b[38;5;241m=\u001b[39m\u001b[38;5;28;01mNone\u001b[39;00m, query_params\u001b[38;5;241m=\u001b[39m\u001b[38;5;28;01mNone\u001b[39;00m, _preload_content\u001b[38;5;241m=\u001b[39m\u001b[38;5;28;01mTrue\u001b[39;00m,\n\u001b[0;32m    230\u001b[0m         _request_timeout\u001b[38;5;241m=\u001b[39m\u001b[38;5;28;01mNone\u001b[39;00m):\n\u001b[1;32m--> 231\u001b[0m     \u001b[38;5;28;01mreturn\u001b[39;00m \u001b[38;5;28mself\u001b[39m\u001b[38;5;241m.\u001b[39mrequest(\u001b[38;5;124m\"\u001b[39m\u001b[38;5;124mGET\u001b[39m\u001b[38;5;124m\"\u001b[39m, url,\n\u001b[0;32m    232\u001b[0m                         headers\u001b[38;5;241m=\u001b[39mheaders,\n\u001b[0;32m    233\u001b[0m                         _preload_content\u001b[38;5;241m=\u001b[39m_preload_content,\n\u001b[0;32m    234\u001b[0m                         _request_timeout\u001b[38;5;241m=\u001b[39m_request_timeout,\n\u001b[0;32m    235\u001b[0m                         query_params\u001b[38;5;241m=\u001b[39mquery_params)\n",
      "File \u001b[1;32m~\\anaconda3\\Lib\\site-packages\\kaggle\\rest.py:225\u001b[0m, in \u001b[0;36mRESTClientObject.request\u001b[1;34m(self, method, url, query_params, headers, body, post_params, _preload_content, _request_timeout)\u001b[0m\n\u001b[0;32m    222\u001b[0m     logger\u001b[38;5;241m.\u001b[39mdebug(\u001b[38;5;124m\"\u001b[39m\u001b[38;5;124mresponse body: \u001b[39m\u001b[38;5;132;01m%s\u001b[39;00m\u001b[38;5;124m\"\u001b[39m, r\u001b[38;5;241m.\u001b[39mdata)\n\u001b[0;32m    224\u001b[0m \u001b[38;5;28;01mif\u001b[39;00m \u001b[38;5;129;01mnot\u001b[39;00m \u001b[38;5;241m200\u001b[39m \u001b[38;5;241m<\u001b[39m\u001b[38;5;241m=\u001b[39m r\u001b[38;5;241m.\u001b[39mstatus \u001b[38;5;241m<\u001b[39m\u001b[38;5;241m=\u001b[39m \u001b[38;5;241m299\u001b[39m:\n\u001b[1;32m--> 225\u001b[0m     \u001b[38;5;28;01mraise\u001b[39;00m ApiException(http_resp\u001b[38;5;241m=\u001b[39mr)\n\u001b[0;32m    227\u001b[0m \u001b[38;5;28;01mreturn\u001b[39;00m r\n",
      "\u001b[1;31mApiException\u001b[0m: (403)\nReason: Forbidden\nHTTP response headers: HTTPHeaderDict({'Content-Type': 'application/json', 'Date': 'Mon, 27 Jan 2025 05:51:48 GMT', 'Access-Control-Allow-Credentials': 'true', 'Access-Control-Allow-Origin': '*', 'Set-Cookie': 'ka_sessionid=0038d2e3aff63242a96651b6cb76d730; max-age=2626560; path=/, GCLB=COeAlcyd7dH4sQEQAw; path=/; HttpOnly', 'Vary': 'Accept-Encoding', 'X-Kaggle-MillisecondsElapsed': '10', 'X-Kaggle-RequestId': '449b67e2efe7474e066ab92aefe982bb', 'X-Kaggle-ApiVersion': '1.6.17', 'X-Kaggle-HubVersion': '0.3.6', 'X-Frame-Options': 'SAMEORIGIN', 'Strict-Transport-Security': 'max-age=63072000; includeSubDomains; preload', 'Content-Security-Policy': \"object-src 'none'; script-src 'nonce-l282o8gYpmVASKvvyx8Hbg==' 'report-sample' 'unsafe-inline' 'unsafe-eval' 'strict-dynamic' https: http:; base-uri 'none'; report-uri https://csp.withgoogle.com/csp/kaggle/20201130; frame-src 'self' https://www.kaggleusercontent.com https://www.youtube.com/embed/ https://polygraph-cool.github.io https://www.google.com/recaptcha/ https://www.docdroid.com https://www.docdroid.net https://kaggle-static.storage.googleapis.com https://kkb-production.jupyter-proxy.kaggle.net https://kkb-production.firebaseapp.com https://kaggle-metastore.firebaseapp.com https://apis.google.com https://content-sheets.googleapis.com/ https://accounts.google.com/ https://storage.googleapis.com https://docs.google.com https://drive.google.com https://calendar.google.com/ https://google.qualtrics.com/ ;\", 'X-Content-Type-Options': 'nosniff', 'Referrer-Policy': 'strict-origin-when-cross-origin', 'Via': '1.1 google', 'Alt-Svc': 'h3=\":443\"; ma=2592000,h3-29=\":443\"; ma=2592000', 'Transfer-Encoding': 'chunked'})\nHTTP response body: b'{\"code\":403,\"message\":\"Permission \\\\u0027datasets.get\\\\u0027 was denied\"}'\n"
     ]
    }
   ],
   "source": [
    "from kaggle.api.kaggle_api_extended import KaggleApi\n",
    "import os\n",
    "\n",
    "def download_additional_datasets(dataset_ids, download_path=\"additional_datasets\"):\n",
    "    \"\"\"\n",
    "    Download multiple datasets from Kaggle and save them as .csv files.\n",
    "\n",
    "    Parameters:\n",
    "        dataset_ids (list): List of Kaggle dataset identifiers (e.g., \"username/dataset-name\").\n",
    "        download_path (str): Directory to save the datasets.\n",
    "    \"\"\"\n",
    "    # Authenticate Kaggle API\n",
    "    api = KaggleApi()\n",
    "    api.authenticate()\n",
    "\n",
    "    # Ensure the download directory exists\n",
    "    os.makedirs(download_path, exist_ok=True)\n",
    "\n",
    "    for dataset_id in dataset_ids:\n",
    "        print(f\"Downloading dataset: {dataset_id}\")\n",
    "\n",
    "        # Download and unzip the dataset\n",
    "        dataset_folder = os.path.join(download_path, dataset_id.split(\"/\")[-1])\n",
    "        os.makedirs(dataset_folder, exist_ok=True)\n",
    "        api.dataset_download_files(dataset_id, path=dataset_folder, unzip=True)\n",
    "\n",
    "        # Find the first CSV file and save it in the main directory\n",
    "        for file_name in os.listdir(dataset_folder):\n",
    "            if file_name.endswith(\".csv\"):\n",
    "                source_path = os.path.join(dataset_folder, file_name)\n",
    "                dest_path = os.path.join(download_path, f\"{dataset_id.split('/')[-1]}.csv\")\n",
    "                os.rename(source_path, dest_path)\n",
    "                break\n",
    "\n",
    "        # Cleanup: Remove any other files\n",
    "        for root, dirs, files in os.walk(dataset_folder, topdown=False):\n",
    "            for name in files:\n",
    "                os.remove(os.path.join(root, name))\n",
    "            for name in dirs:\n",
    "                os.rmdir(os.path.join(root, name))\n",
    "\n",
    "        os.rmdir(dataset_folder)\n",
    "        print(f\"Dataset {dataset_id} saved as {dataset_id.split('/')[-1]}.csv\\n\")\n",
    "\n",
    "# List of 5 Kaggle datasets to download\n",
    "datasets_to_download = [\n",
    "    \"mathan/fifa-2022-complete-statistics\",\n",
    "    \"ashishjangra27/face-mask-12k-images-dataset\",\n",
    "    \"timoboz/airline-passenger-satisfaction\",\n",
    "    \"himanshupoddar/zomato-bangalore-restaurants\",\n",
    "    \"lavanya321/covid19-data\" \n",
    "]\n",
    "\n",
    "# Download datasets\n",
    "download_additional_datasets(datasets_to_download)\n"
   ]
  },
  {
   "cell_type": "code",
   "execution_count": 19,
   "id": "e683ac55-5ebe-4786-8b3e-351e9449d29f",
   "metadata": {},
   "outputs": [
    {
     "name": "stdout",
     "output_type": "stream",
     "text": [
      "Dataset URL: https://www.kaggle.com/datasets/karrrimbaev/water-quality\n"
     ]
    },
    {
     "ename": "ApiException",
     "evalue": "(403)\nReason: Forbidden\nHTTP response headers: HTTPHeaderDict({'Content-Type': 'application/json', 'Date': 'Mon, 27 Jan 2025 06:01:11 GMT', 'Access-Control-Allow-Credentials': 'true', 'Access-Control-Allow-Origin': '*', 'Set-Cookie': 'ka_sessionid=1018814bcba70a5c09e5fbe32e935f8c; max-age=2626560; path=/, GCLB=CJzV27GK5OrclgEQAw; path=/; HttpOnly', 'Vary': 'Accept-Encoding', 'X-Kaggle-MillisecondsElapsed': '11', 'X-Kaggle-RequestId': 'a36c13a78f34027f962671700069c487', 'X-Kaggle-ApiVersion': '1.6.17', 'X-Kaggle-HubVersion': '0.3.6', 'X-Frame-Options': 'SAMEORIGIN', 'Strict-Transport-Security': 'max-age=63072000; includeSubDomains; preload', 'Content-Security-Policy': \"object-src 'none'; script-src 'nonce-Gw6Suv17SIbpbw5jZEWipw==' 'report-sample' 'unsafe-inline' 'unsafe-eval' 'strict-dynamic' https: http:; base-uri 'none'; report-uri https://csp.withgoogle.com/csp/kaggle/20201130; frame-src 'self' https://www.kaggleusercontent.com https://www.youtube.com/embed/ https://polygraph-cool.github.io https://www.google.com/recaptcha/ https://www.docdroid.com https://www.docdroid.net https://kaggle-static.storage.googleapis.com https://kkb-production.jupyter-proxy.kaggle.net https://kkb-production.firebaseapp.com https://kaggle-metastore.firebaseapp.com https://apis.google.com https://content-sheets.googleapis.com/ https://accounts.google.com/ https://storage.googleapis.com https://docs.google.com https://drive.google.com https://calendar.google.com/ https://google.qualtrics.com/ ;\", 'X-Content-Type-Options': 'nosniff', 'Referrer-Policy': 'strict-origin-when-cross-origin', 'Via': '1.1 google', 'Alt-Svc': 'h3=\":443\"; ma=2592000,h3-29=\":443\"; ma=2592000', 'Transfer-Encoding': 'chunked'})\nHTTP response body: b'{\"code\":403,\"message\":\"Permission \\\\u0027datasets.get\\\\u0027 was denied\"}'\n",
     "output_type": "error",
     "traceback": [
      "\u001b[1;31m---------------------------------------------------------------------------\u001b[0m",
      "\u001b[1;31mApiException\u001b[0m                              Traceback (most recent call last)",
      "Cell \u001b[1;32mIn[19], line 1\u001b[0m\n\u001b[1;32m----> 1\u001b[0m api\u001b[38;5;241m.\u001b[39mdataset_download_files(\u001b[38;5;124m'\u001b[39m\u001b[38;5;124mkarrrimbaev/water-quality\u001b[39m\u001b[38;5;124m'\u001b[39m, path\u001b[38;5;241m=\u001b[39m\u001b[38;5;124m'\u001b[39m\u001b[38;5;124m.\u001b[39m\u001b[38;5;124m'\u001b[39m, unzip\u001b[38;5;241m=\u001b[39m\u001b[38;5;28;01mTrue\u001b[39;00m)\n",
      "File \u001b[1;32m~\\anaconda3\\Lib\\site-packages\\kaggle\\api\\kaggle_api_extended.py:1502\u001b[0m, in \u001b[0;36mKaggleApi.dataset_download_files\u001b[1;34m(self, dataset, path, force, quiet, unzip, licenses)\u001b[0m\n\u001b[0;32m   1496\u001b[0m     effective_path \u001b[38;5;241m=\u001b[39m path\n\u001b[0;32m   1498\u001b[0m \u001b[38;5;28mself\u001b[39m\u001b[38;5;241m.\u001b[39m_print_dataset_url_and_license(owner_slug, dataset_slug,\n\u001b[0;32m   1499\u001b[0m                                     dataset_version_number, licenses)\n\u001b[0;32m   1501\u001b[0m response \u001b[38;5;241m=\u001b[39m \u001b[38;5;28mself\u001b[39m\u001b[38;5;241m.\u001b[39mprocess_response(\n\u001b[1;32m-> 1502\u001b[0m     \u001b[38;5;28mself\u001b[39m\u001b[38;5;241m.\u001b[39mdatasets_download_with_http_info(\n\u001b[0;32m   1503\u001b[0m         owner_slug\u001b[38;5;241m=\u001b[39mowner_slug,\n\u001b[0;32m   1504\u001b[0m         dataset_slug\u001b[38;5;241m=\u001b[39mdataset_slug,\n\u001b[0;32m   1505\u001b[0m         dataset_version_number\u001b[38;5;241m=\u001b[39mdataset_version_number,\n\u001b[0;32m   1506\u001b[0m         _preload_content\u001b[38;5;241m=\u001b[39m\u001b[38;5;28;01mFalse\u001b[39;00m))\n\u001b[0;32m   1508\u001b[0m outfile \u001b[38;5;241m=\u001b[39m os\u001b[38;5;241m.\u001b[39mpath\u001b[38;5;241m.\u001b[39mjoin(effective_path, dataset_slug \u001b[38;5;241m+\u001b[39m \u001b[38;5;124m'\u001b[39m\u001b[38;5;124m.zip\u001b[39m\u001b[38;5;124m'\u001b[39m)\n\u001b[0;32m   1509\u001b[0m \u001b[38;5;28;01mif\u001b[39;00m force \u001b[38;5;129;01mor\u001b[39;00m \u001b[38;5;28mself\u001b[39m\u001b[38;5;241m.\u001b[39mdownload_needed(response, outfile, quiet):\n",
      "File \u001b[1;32m~\\anaconda3\\Lib\\site-packages\\kaggle\\api\\kaggle_api.py:1555\u001b[0m, in \u001b[0;36mKaggleApi.datasets_download_with_http_info\u001b[1;34m(self, owner_slug, dataset_slug, **kwargs)\u001b[0m\n\u001b[0;32m   1552\u001b[0m \u001b[38;5;66;03m# Authentication setting\u001b[39;00m\n\u001b[0;32m   1553\u001b[0m auth_settings \u001b[38;5;241m=\u001b[39m [\u001b[38;5;124m'\u001b[39m\u001b[38;5;124mbasicAuth\u001b[39m\u001b[38;5;124m'\u001b[39m]  \u001b[38;5;66;03m# noqa: E501\u001b[39;00m\n\u001b[1;32m-> 1555\u001b[0m \u001b[38;5;28;01mreturn\u001b[39;00m \u001b[38;5;28mself\u001b[39m\u001b[38;5;241m.\u001b[39mapi_client\u001b[38;5;241m.\u001b[39mcall_api(\n\u001b[0;32m   1556\u001b[0m     \u001b[38;5;124m'\u001b[39m\u001b[38;5;124m/datasets/download/\u001b[39m\u001b[38;5;132;01m{ownerSlug}\u001b[39;00m\u001b[38;5;124m/\u001b[39m\u001b[38;5;132;01m{datasetSlug}\u001b[39;00m\u001b[38;5;124m'\u001b[39m, \u001b[38;5;124m'\u001b[39m\u001b[38;5;124mGET\u001b[39m\u001b[38;5;124m'\u001b[39m,\n\u001b[0;32m   1557\u001b[0m     path_params,\n\u001b[0;32m   1558\u001b[0m     query_params,\n\u001b[0;32m   1559\u001b[0m     header_params,\n\u001b[0;32m   1560\u001b[0m     body\u001b[38;5;241m=\u001b[39mbody_params,\n\u001b[0;32m   1561\u001b[0m     post_params\u001b[38;5;241m=\u001b[39mform_params,\n\u001b[0;32m   1562\u001b[0m     files\u001b[38;5;241m=\u001b[39mlocal_var_files,\n\u001b[0;32m   1563\u001b[0m     response_type\u001b[38;5;241m=\u001b[39m\u001b[38;5;124m'\u001b[39m\u001b[38;5;124mResult\u001b[39m\u001b[38;5;124m'\u001b[39m,  \u001b[38;5;66;03m# noqa: E501\u001b[39;00m\n\u001b[0;32m   1564\u001b[0m     auth_settings\u001b[38;5;241m=\u001b[39mauth_settings,\n\u001b[0;32m   1565\u001b[0m     async_req\u001b[38;5;241m=\u001b[39mparams\u001b[38;5;241m.\u001b[39mget(\u001b[38;5;124m'\u001b[39m\u001b[38;5;124masync_req\u001b[39m\u001b[38;5;124m'\u001b[39m),\n\u001b[0;32m   1566\u001b[0m     _return_http_data_only\u001b[38;5;241m=\u001b[39mparams\u001b[38;5;241m.\u001b[39mget(\u001b[38;5;124m'\u001b[39m\u001b[38;5;124m_return_http_data_only\u001b[39m\u001b[38;5;124m'\u001b[39m),\n\u001b[0;32m   1567\u001b[0m     _preload_content\u001b[38;5;241m=\u001b[39mparams\u001b[38;5;241m.\u001b[39mget(\u001b[38;5;124m'\u001b[39m\u001b[38;5;124m_preload_content\u001b[39m\u001b[38;5;124m'\u001b[39m, \u001b[38;5;28;01mTrue\u001b[39;00m),\n\u001b[0;32m   1568\u001b[0m     _request_timeout\u001b[38;5;241m=\u001b[39mparams\u001b[38;5;241m.\u001b[39mget(\u001b[38;5;124m'\u001b[39m\u001b[38;5;124m_request_timeout\u001b[39m\u001b[38;5;124m'\u001b[39m),\n\u001b[0;32m   1569\u001b[0m     collection_formats\u001b[38;5;241m=\u001b[39mcollection_formats)\n",
      "File \u001b[1;32m~\\anaconda3\\Lib\\site-packages\\kaggle\\api_client.py:313\u001b[0m, in \u001b[0;36mApiClient.call_api\u001b[1;34m(self, resource_path, method, path_params, query_params, header_params, body, post_params, files, response_type, auth_settings, async_req, _return_http_data_only, collection_formats, _preload_content, _request_timeout)\u001b[0m\n\u001b[0;32m    276\u001b[0m \u001b[38;5;250m\u001b[39m\u001b[38;5;124;03m\"\"\"Makes the HTTP request (synchronous) and returns deserialized data.\u001b[39;00m\n\u001b[0;32m    277\u001b[0m \n\u001b[0;32m    278\u001b[0m \u001b[38;5;124;03mTo make an async request, set the async_req parameter.\u001b[39;00m\n\u001b[1;32m   (...)\u001b[0m\n\u001b[0;32m    310\u001b[0m \u001b[38;5;124;03m    then the method will return the response directly.\u001b[39;00m\n\u001b[0;32m    311\u001b[0m \u001b[38;5;124;03m\"\"\"\u001b[39;00m\n\u001b[0;32m    312\u001b[0m \u001b[38;5;28;01mif\u001b[39;00m \u001b[38;5;129;01mnot\u001b[39;00m async_req:\n\u001b[1;32m--> 313\u001b[0m     \u001b[38;5;28;01mreturn\u001b[39;00m \u001b[38;5;28mself\u001b[39m\u001b[38;5;241m.\u001b[39m__call_api(resource_path, method,\n\u001b[0;32m    314\u001b[0m                            path_params, query_params, header_params,\n\u001b[0;32m    315\u001b[0m                            body, post_params, files,\n\u001b[0;32m    316\u001b[0m                            response_type, auth_settings,\n\u001b[0;32m    317\u001b[0m                            _return_http_data_only, collection_formats,\n\u001b[0;32m    318\u001b[0m                            _preload_content, _request_timeout)\n\u001b[0;32m    319\u001b[0m \u001b[38;5;28;01melse\u001b[39;00m:\n\u001b[0;32m    320\u001b[0m     thread \u001b[38;5;241m=\u001b[39m \u001b[38;5;28mself\u001b[39m\u001b[38;5;241m.\u001b[39mpool\u001b[38;5;241m.\u001b[39mapply_async(\u001b[38;5;28mself\u001b[39m\u001b[38;5;241m.\u001b[39m__call_api, (resource_path,\n\u001b[0;32m    321\u001b[0m                                    method, path_params, query_params,\n\u001b[0;32m    322\u001b[0m                                    header_params, body,\n\u001b[1;32m   (...)\u001b[0m\n\u001b[0;32m    326\u001b[0m                                    collection_formats,\n\u001b[0;32m    327\u001b[0m                                    _preload_content, _request_timeout))\n",
      "File \u001b[1;32m~\\anaconda3\\Lib\\site-packages\\kaggle\\api_client.py:145\u001b[0m, in \u001b[0;36mApiClient.__call_api\u001b[1;34m(self, resource_path, method, path_params, query_params, header_params, body, post_params, files, response_type, auth_settings, _return_http_data_only, collection_formats, _preload_content, _request_timeout)\u001b[0m\n\u001b[0;32m    142\u001b[0m url \u001b[38;5;241m=\u001b[39m \u001b[38;5;28mself\u001b[39m\u001b[38;5;241m.\u001b[39mconfiguration\u001b[38;5;241m.\u001b[39mhost \u001b[38;5;241m+\u001b[39m resource_path\n\u001b[0;32m    144\u001b[0m \u001b[38;5;66;03m# perform request and return response\u001b[39;00m\n\u001b[1;32m--> 145\u001b[0m response_data \u001b[38;5;241m=\u001b[39m \u001b[38;5;28mself\u001b[39m\u001b[38;5;241m.\u001b[39mrequest(\n\u001b[0;32m    146\u001b[0m     method, url, query_params\u001b[38;5;241m=\u001b[39mquery_params, headers\u001b[38;5;241m=\u001b[39mheader_params,\n\u001b[0;32m    147\u001b[0m     post_params\u001b[38;5;241m=\u001b[39mpost_params, body\u001b[38;5;241m=\u001b[39mbody,\n\u001b[0;32m    148\u001b[0m     _preload_content\u001b[38;5;241m=\u001b[39m_preload_content,\n\u001b[0;32m    149\u001b[0m     _request_timeout\u001b[38;5;241m=\u001b[39m_request_timeout)\n\u001b[0;32m    151\u001b[0m \u001b[38;5;28mself\u001b[39m\u001b[38;5;241m.\u001b[39mlast_response \u001b[38;5;241m=\u001b[39m response_data\n\u001b[0;32m    153\u001b[0m return_data \u001b[38;5;241m=\u001b[39m response_data\n",
      "File \u001b[1;32m~\\anaconda3\\Lib\\site-packages\\kaggle\\api_client.py:335\u001b[0m, in \u001b[0;36mApiClient.request\u001b[1;34m(self, method, url, query_params, headers, post_params, body, _preload_content, _request_timeout)\u001b[0m\n\u001b[0;32m    333\u001b[0m \u001b[38;5;250m\u001b[39m\u001b[38;5;124;03m\"\"\"Makes the HTTP request using RESTClient.\"\"\"\u001b[39;00m\n\u001b[0;32m    334\u001b[0m \u001b[38;5;28;01mif\u001b[39;00m method \u001b[38;5;241m==\u001b[39m \u001b[38;5;124m\"\u001b[39m\u001b[38;5;124mGET\u001b[39m\u001b[38;5;124m\"\u001b[39m:\n\u001b[1;32m--> 335\u001b[0m     \u001b[38;5;28;01mreturn\u001b[39;00m \u001b[38;5;28mself\u001b[39m\u001b[38;5;241m.\u001b[39mrest_client\u001b[38;5;241m.\u001b[39mGET(url,\n\u001b[0;32m    336\u001b[0m                                 query_params\u001b[38;5;241m=\u001b[39mquery_params,\n\u001b[0;32m    337\u001b[0m                                 _preload_content\u001b[38;5;241m=\u001b[39m_preload_content,\n\u001b[0;32m    338\u001b[0m                                 _request_timeout\u001b[38;5;241m=\u001b[39m_request_timeout,\n\u001b[0;32m    339\u001b[0m                                 headers\u001b[38;5;241m=\u001b[39mheaders)\n\u001b[0;32m    340\u001b[0m \u001b[38;5;28;01melif\u001b[39;00m method \u001b[38;5;241m==\u001b[39m \u001b[38;5;124m\"\u001b[39m\u001b[38;5;124mHEAD\u001b[39m\u001b[38;5;124m\"\u001b[39m:\n\u001b[0;32m    341\u001b[0m     \u001b[38;5;28;01mreturn\u001b[39;00m \u001b[38;5;28mself\u001b[39m\u001b[38;5;241m.\u001b[39mrest_client\u001b[38;5;241m.\u001b[39mHEAD(url,\n\u001b[0;32m    342\u001b[0m                                  query_params\u001b[38;5;241m=\u001b[39mquery_params,\n\u001b[0;32m    343\u001b[0m                                  _preload_content\u001b[38;5;241m=\u001b[39m_preload_content,\n\u001b[0;32m    344\u001b[0m                                  _request_timeout\u001b[38;5;241m=\u001b[39m_request_timeout,\n\u001b[0;32m    345\u001b[0m                                  headers\u001b[38;5;241m=\u001b[39mheaders)\n",
      "File \u001b[1;32m~\\anaconda3\\Lib\\site-packages\\kaggle\\rest.py:231\u001b[0m, in \u001b[0;36mRESTClientObject.GET\u001b[1;34m(self, url, headers, query_params, _preload_content, _request_timeout)\u001b[0m\n\u001b[0;32m    229\u001b[0m \u001b[38;5;28;01mdef\u001b[39;00m \u001b[38;5;21mGET\u001b[39m(\u001b[38;5;28mself\u001b[39m, url, headers\u001b[38;5;241m=\u001b[39m\u001b[38;5;28;01mNone\u001b[39;00m, query_params\u001b[38;5;241m=\u001b[39m\u001b[38;5;28;01mNone\u001b[39;00m, _preload_content\u001b[38;5;241m=\u001b[39m\u001b[38;5;28;01mTrue\u001b[39;00m,\n\u001b[0;32m    230\u001b[0m         _request_timeout\u001b[38;5;241m=\u001b[39m\u001b[38;5;28;01mNone\u001b[39;00m):\n\u001b[1;32m--> 231\u001b[0m     \u001b[38;5;28;01mreturn\u001b[39;00m \u001b[38;5;28mself\u001b[39m\u001b[38;5;241m.\u001b[39mrequest(\u001b[38;5;124m\"\u001b[39m\u001b[38;5;124mGET\u001b[39m\u001b[38;5;124m\"\u001b[39m, url,\n\u001b[0;32m    232\u001b[0m                         headers\u001b[38;5;241m=\u001b[39mheaders,\n\u001b[0;32m    233\u001b[0m                         _preload_content\u001b[38;5;241m=\u001b[39m_preload_content,\n\u001b[0;32m    234\u001b[0m                         _request_timeout\u001b[38;5;241m=\u001b[39m_request_timeout,\n\u001b[0;32m    235\u001b[0m                         query_params\u001b[38;5;241m=\u001b[39mquery_params)\n",
      "File \u001b[1;32m~\\anaconda3\\Lib\\site-packages\\kaggle\\rest.py:225\u001b[0m, in \u001b[0;36mRESTClientObject.request\u001b[1;34m(self, method, url, query_params, headers, body, post_params, _preload_content, _request_timeout)\u001b[0m\n\u001b[0;32m    222\u001b[0m     logger\u001b[38;5;241m.\u001b[39mdebug(\u001b[38;5;124m\"\u001b[39m\u001b[38;5;124mresponse body: \u001b[39m\u001b[38;5;132;01m%s\u001b[39;00m\u001b[38;5;124m\"\u001b[39m, r\u001b[38;5;241m.\u001b[39mdata)\n\u001b[0;32m    224\u001b[0m \u001b[38;5;28;01mif\u001b[39;00m \u001b[38;5;129;01mnot\u001b[39;00m \u001b[38;5;241m200\u001b[39m \u001b[38;5;241m<\u001b[39m\u001b[38;5;241m=\u001b[39m r\u001b[38;5;241m.\u001b[39mstatus \u001b[38;5;241m<\u001b[39m\u001b[38;5;241m=\u001b[39m \u001b[38;5;241m299\u001b[39m:\n\u001b[1;32m--> 225\u001b[0m     \u001b[38;5;28;01mraise\u001b[39;00m ApiException(http_resp\u001b[38;5;241m=\u001b[39mr)\n\u001b[0;32m    227\u001b[0m \u001b[38;5;28;01mreturn\u001b[39;00m r\n",
      "\u001b[1;31mApiException\u001b[0m: (403)\nReason: Forbidden\nHTTP response headers: HTTPHeaderDict({'Content-Type': 'application/json', 'Date': 'Mon, 27 Jan 2025 06:01:11 GMT', 'Access-Control-Allow-Credentials': 'true', 'Access-Control-Allow-Origin': '*', 'Set-Cookie': 'ka_sessionid=1018814bcba70a5c09e5fbe32e935f8c; max-age=2626560; path=/, GCLB=CJzV27GK5OrclgEQAw; path=/; HttpOnly', 'Vary': 'Accept-Encoding', 'X-Kaggle-MillisecondsElapsed': '11', 'X-Kaggle-RequestId': 'a36c13a78f34027f962671700069c487', 'X-Kaggle-ApiVersion': '1.6.17', 'X-Kaggle-HubVersion': '0.3.6', 'X-Frame-Options': 'SAMEORIGIN', 'Strict-Transport-Security': 'max-age=63072000; includeSubDomains; preload', 'Content-Security-Policy': \"object-src 'none'; script-src 'nonce-Gw6Suv17SIbpbw5jZEWipw==' 'report-sample' 'unsafe-inline' 'unsafe-eval' 'strict-dynamic' https: http:; base-uri 'none'; report-uri https://csp.withgoogle.com/csp/kaggle/20201130; frame-src 'self' https://www.kaggleusercontent.com https://www.youtube.com/embed/ https://polygraph-cool.github.io https://www.google.com/recaptcha/ https://www.docdroid.com https://www.docdroid.net https://kaggle-static.storage.googleapis.com https://kkb-production.jupyter-proxy.kaggle.net https://kkb-production.firebaseapp.com https://kaggle-metastore.firebaseapp.com https://apis.google.com https://content-sheets.googleapis.com/ https://accounts.google.com/ https://storage.googleapis.com https://docs.google.com https://drive.google.com https://calendar.google.com/ https://google.qualtrics.com/ ;\", 'X-Content-Type-Options': 'nosniff', 'Referrer-Policy': 'strict-origin-when-cross-origin', 'Via': '1.1 google', 'Alt-Svc': 'h3=\":443\"; ma=2592000,h3-29=\":443\"; ma=2592000', 'Transfer-Encoding': 'chunked'})\nHTTP response body: b'{\"code\":403,\"message\":\"Permission \\\\u0027datasets.get\\\\u0027 was denied\"}'\n"
     ]
    }
   ],
   "source": [
    "api.dataset_download_files('karrrimbaev/water-quality', path='.', unzip=True)\n"
   ]
  },
  {
   "cell_type": "code",
   "execution_count": null,
   "id": "babf02fc-62f4-4202-8ab6-eb5a1048a870",
   "metadata": {},
   "outputs": [],
   "source": []
  }
 ],
 "metadata": {
  "kernelspec": {
   "display_name": "Python 3 (ipykernel)",
   "language": "python",
   "name": "python3"
  },
  "language_info": {
   "codemirror_mode": {
    "name": "ipython",
    "version": 3
   },
   "file_extension": ".py",
   "mimetype": "text/x-python",
   "name": "python",
   "nbconvert_exporter": "python",
   "pygments_lexer": "ipython3",
   "version": "3.11.7"
  }
 },
 "nbformat": 4,
 "nbformat_minor": 5
}
