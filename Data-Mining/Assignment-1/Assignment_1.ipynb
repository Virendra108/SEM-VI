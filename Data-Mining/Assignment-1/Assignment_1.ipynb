{
 "cells": [
  {
   "cell_type": "code",
   "execution_count": 16,
   "id": "87946777-fa34-4abe-8f12-e8c426517d63",
   "metadata": {},
   "outputs": [],
   "source": [
    "#import any randoom dats set\n",
    "import pandas as pd\n",
    "df1=pd.read_csv(\"tested.csv\")"
   ]
  },
  {
   "cell_type": "code",
   "execution_count": 18,
   "id": "5b0967ef-a3ac-42d9-b928-15c4bd377462",
   "metadata": {},
   "outputs": [
    {
     "data": {
      "text/html": [
       "<div>\n",
       "<style scoped>\n",
       "    .dataframe tbody tr th:only-of-type {\n",
       "        vertical-align: middle;\n",
       "    }\n",
       "\n",
       "    .dataframe tbody tr th {\n",
       "        vertical-align: top;\n",
       "    }\n",
       "\n",
       "    .dataframe thead th {\n",
       "        text-align: right;\n",
       "    }\n",
       "</style>\n",
       "<table border=\"1\" class=\"dataframe\">\n",
       "  <thead>\n",
       "    <tr style=\"text-align: right;\">\n",
       "      <th></th>\n",
       "      <th>PassengerId</th>\n",
       "      <th>Survived</th>\n",
       "      <th>Pclass</th>\n",
       "      <th>Name</th>\n",
       "      <th>Sex</th>\n",
       "      <th>Age</th>\n",
       "      <th>SibSp</th>\n",
       "      <th>Parch</th>\n",
       "      <th>Ticket</th>\n",
       "      <th>Fare</th>\n",
       "      <th>Cabin</th>\n",
       "      <th>Embarked</th>\n",
       "    </tr>\n",
       "  </thead>\n",
       "  <tbody>\n",
       "    <tr>\n",
       "      <th>0</th>\n",
       "      <td>892</td>\n",
       "      <td>0</td>\n",
       "      <td>3</td>\n",
       "      <td>Kelly, Mr. James</td>\n",
       "      <td>male</td>\n",
       "      <td>34.5</td>\n",
       "      <td>0</td>\n",
       "      <td>0</td>\n",
       "      <td>330911</td>\n",
       "      <td>7.8292</td>\n",
       "      <td>NaN</td>\n",
       "      <td>Q</td>\n",
       "    </tr>\n",
       "    <tr>\n",
       "      <th>1</th>\n",
       "      <td>893</td>\n",
       "      <td>1</td>\n",
       "      <td>3</td>\n",
       "      <td>Wilkes, Mrs. James (Ellen Needs)</td>\n",
       "      <td>female</td>\n",
       "      <td>47.0</td>\n",
       "      <td>1</td>\n",
       "      <td>0</td>\n",
       "      <td>363272</td>\n",
       "      <td>7.0000</td>\n",
       "      <td>NaN</td>\n",
       "      <td>S</td>\n",
       "    </tr>\n",
       "    <tr>\n",
       "      <th>2</th>\n",
       "      <td>894</td>\n",
       "      <td>0</td>\n",
       "      <td>2</td>\n",
       "      <td>Myles, Mr. Thomas Francis</td>\n",
       "      <td>male</td>\n",
       "      <td>62.0</td>\n",
       "      <td>0</td>\n",
       "      <td>0</td>\n",
       "      <td>240276</td>\n",
       "      <td>9.6875</td>\n",
       "      <td>NaN</td>\n",
       "      <td>Q</td>\n",
       "    </tr>\n",
       "    <tr>\n",
       "      <th>3</th>\n",
       "      <td>895</td>\n",
       "      <td>0</td>\n",
       "      <td>3</td>\n",
       "      <td>Wirz, Mr. Albert</td>\n",
       "      <td>male</td>\n",
       "      <td>27.0</td>\n",
       "      <td>0</td>\n",
       "      <td>0</td>\n",
       "      <td>315154</td>\n",
       "      <td>8.6625</td>\n",
       "      <td>NaN</td>\n",
       "      <td>S</td>\n",
       "    </tr>\n",
       "    <tr>\n",
       "      <th>4</th>\n",
       "      <td>896</td>\n",
       "      <td>1</td>\n",
       "      <td>3</td>\n",
       "      <td>Hirvonen, Mrs. Alexander (Helga E Lindqvist)</td>\n",
       "      <td>female</td>\n",
       "      <td>22.0</td>\n",
       "      <td>1</td>\n",
       "      <td>1</td>\n",
       "      <td>3101298</td>\n",
       "      <td>12.2875</td>\n",
       "      <td>NaN</td>\n",
       "      <td>S</td>\n",
       "    </tr>\n",
       "  </tbody>\n",
       "</table>\n",
       "</div>"
      ],
      "text/plain": [
       "   PassengerId  Survived  Pclass  \\\n",
       "0          892         0       3   \n",
       "1          893         1       3   \n",
       "2          894         0       2   \n",
       "3          895         0       3   \n",
       "4          896         1       3   \n",
       "\n",
       "                                           Name     Sex   Age  SibSp  Parch  \\\n",
       "0                              Kelly, Mr. James    male  34.5      0      0   \n",
       "1              Wilkes, Mrs. James (Ellen Needs)  female  47.0      1      0   \n",
       "2                     Myles, Mr. Thomas Francis    male  62.0      0      0   \n",
       "3                              Wirz, Mr. Albert    male  27.0      0      0   \n",
       "4  Hirvonen, Mrs. Alexander (Helga E Lindqvist)  female  22.0      1      1   \n",
       "\n",
       "    Ticket     Fare Cabin Embarked  \n",
       "0   330911   7.8292   NaN        Q  \n",
       "1   363272   7.0000   NaN        S  \n",
       "2   240276   9.6875   NaN        Q  \n",
       "3   315154   8.6625   NaN        S  \n",
       "4  3101298  12.2875   NaN        S  "
      ]
     },
     "execution_count": 18,
     "metadata": {},
     "output_type": "execute_result"
    }
   ],
   "source": [
    "df1.head()"
   ]
  },
  {
   "cell_type": "code",
   "execution_count": 20,
   "id": "4c91b21b-52c7-478e-8da6-dbcebbd30a59",
   "metadata": {},
   "outputs": [
    {
     "data": {
      "text/plain": [
       "(418, 12)"
      ]
     },
     "execution_count": 20,
     "metadata": {},
     "output_type": "execute_result"
    }
   ],
   "source": [
    "df1.shape"
   ]
  },
  {
   "cell_type": "code",
   "execution_count": 17,
   "id": "f3f868d0-e17c-4934-9508-2ca95bbcd3c9",
   "metadata": {
    "scrolled": true
   },
   "outputs": [
    {
     "data": {
      "text/plain": [
       "PassengerId      0\n",
       "Survived         0\n",
       "Pclass           0\n",
       "Name             0\n",
       "Sex              0\n",
       "Age             86\n",
       "SibSp            0\n",
       "Parch            0\n",
       "Ticket           0\n",
       "Fare             1\n",
       "Cabin          327\n",
       "Embarked         0\n",
       "dtype: int64"
      ]
     },
     "execution_count": 17,
     "metadata": {},
     "output_type": "execute_result"
    }
   ],
   "source": [
    "#Find missing values and place missising values woth suitable attribute\n",
    "df1.isnull().sum()"
   ]
  },
  {
   "cell_type": "code",
   "execution_count": 21,
   "id": "22dba1ea-1d53-4280-a894-c46df9865678",
   "metadata": {},
   "outputs": [],
   "source": [
    "#Obeservation\n",
    "#Age             86\n",
    "#Fare             1\n",
    "#Cabin          327\n"
   ]
  },
  {
   "cell_type": "code",
   "execution_count": 27,
   "id": "c665cf1b-d8c8-4a1e-95a7-cfc2e14c5c82",
   "metadata": {},
   "outputs": [
    {
     "name": "stdout",
     "output_type": "stream",
     "text": [
      "Age\n",
      "21.0    17\n",
      "24.0    17\n",
      "22.0    16\n",
      "30.0    15\n",
      "18.0    13\n",
      "        ..\n",
      "76.0     1\n",
      "28.5     1\n",
      "22.5     1\n",
      "62.0     1\n",
      "38.5     1\n",
      "Name: count, Length: 79, dtype: int64\n",
      "86\n"
     ]
    },
    {
     "name": "stderr",
     "output_type": "stream",
     "text": [
      "C:\\Users\\viren\\AppData\\Local\\Temp\\ipykernel_17816\\1176664645.py:4: FutureWarning: A value is trying to be set on a copy of a DataFrame or Series through chained assignment using an inplace method.\n",
      "The behavior will change in pandas 3.0. This inplace method will never work because the intermediate object on which we are setting values always behaves as a copy.\n",
      "\n",
      "For example, when doing 'df[col].method(value, inplace=True)', try using 'df.method({col: value}, inplace=True)' or df[col] = df[col].method(value) instead, to perform the operation inplace on the original object.\n",
      "\n",
      "\n",
      "  df1['Age'].fillna(value=df1['Age'].mean(), inplace=True)\n"
     ]
    }
   ],
   "source": [
    "#lets work on the age column\n",
    "print(df1['Age'].value_counts()) #dtype= int 64\n",
    "print(df1['Age'].isnull().sum())  #86 null values\n",
    "df1['Age'].fillna(value=df1['Age'].mean(), inplace=True)"
   ]
  },
  {
   "cell_type": "code",
   "execution_count": 28,
   "id": "45fed78c-93ea-4fae-bf4d-a01f14628aaa",
   "metadata": {},
   "outputs": [
    {
     "name": "stdout",
     "output_type": "stream",
     "text": [
      "0\n"
     ]
    }
   ],
   "source": [
    "print(df1['Age'].isnull().sum())  #so no null value remained for age now"
   ]
  },
  {
   "cell_type": "code",
   "execution_count": 30,
   "id": "17badc55-934c-4b07-a8ef-d2041a3b91c7",
   "metadata": {},
   "outputs": [
    {
     "name": "stdout",
     "output_type": "stream",
     "text": [
      "1\n"
     ]
    },
    {
     "name": "stderr",
     "output_type": "stream",
     "text": [
      "C:\\Users\\viren\\AppData\\Local\\Temp\\ipykernel_17816\\531356310.py:3: FutureWarning: A value is trying to be set on a copy of a DataFrame or Series through chained assignment using an inplace method.\n",
      "The behavior will change in pandas 3.0. This inplace method will never work because the intermediate object on which we are setting values always behaves as a copy.\n",
      "\n",
      "For example, when doing 'df[col].method(value, inplace=True)', try using 'df.method({col: value}, inplace=True)' or df[col] = df[col].method(value) instead, to perform the operation inplace on the original object.\n",
      "\n",
      "\n",
      "  df1['Fare'].fillna(value=df1['Fare'].mean(), inplace=True)\n"
     ]
    }
   ],
   "source": [
    "#fare-- 1 null value\n",
    "print(df1['Fare'].isnull().sum()) #1\n",
    "df1['Fare'].fillna(value=df1['Fare'].mean(), inplace=True)"
   ]
  },
  {
   "cell_type": "code",
   "execution_count": 31,
   "id": "8b84270e-84dd-4cbb-8ea8-deb1ca91bf05",
   "metadata": {},
   "outputs": [
    {
     "name": "stdout",
     "output_type": "stream",
     "text": [
      "0\n"
     ]
    }
   ],
   "source": [
    "print(df1['Fare'].isnull().sum())"
   ]
  },
  {
   "cell_type": "code",
   "execution_count": 35,
   "id": "ebeb8a96-c2ea-45da-b184-a3a12c823559",
   "metadata": {},
   "outputs": [
    {
     "name": "stdout",
     "output_type": "stream",
     "text": [
      "327\n",
      "Cabin\n",
      "B57 B59 B63 B66    3\n",
      "B45                2\n",
      "C89                2\n",
      "C55 C57            2\n",
      "A34                2\n",
      "                  ..\n",
      "E52                1\n",
      "D30                1\n",
      "E31                1\n",
      "C62 C64            1\n",
      "C105               1\n",
      "Name: count, Length: 76, dtype: int64\n"
     ]
    }
   ],
   "source": [
    "##Cabin          327\n",
    "print(df1['Cabin'].isnull().sum()) #327\n",
    "# we have to check what type of values thi column ishaving\n",
    "print(df1['Cabin'].value_counts())"
   ]
  },
  {
   "cell_type": "code",
   "execution_count": 36,
   "id": "01ebe7a4-f03f-4dc9-a124-fbea39b60438",
   "metadata": {},
   "outputs": [
    {
     "name": "stderr",
     "output_type": "stream",
     "text": [
      "C:\\Users\\viren\\AppData\\Local\\Temp\\ipykernel_17816\\4288231354.py:4: FutureWarning: A value is trying to be set on a copy of a DataFrame or Series through chained assignment using an inplace method.\n",
      "The behavior will change in pandas 3.0. This inplace method will never work because the intermediate object on which we are setting values always behaves as a copy.\n",
      "\n",
      "For example, when doing 'df[col].method(value, inplace=True)', try using 'df.method({col: value}, inplace=True)' or df[col] = df[col].method(value) instead, to perform the operation inplace on the original object.\n",
      "\n",
      "\n",
      "  df1['Cabin'].fillna(mode_cabin, inplace=True)\n"
     ]
    }
   ],
   "source": [
    "#as it is somewhat categorical natured value\n",
    "#so let fill it with mode values\n",
    "mode_cabin = df1['Cabin'].mode()[0]\n",
    "df1['Cabin'].fillna(mode_cabin, inplace=True)"
   ]
  },
  {
   "cell_type": "code",
   "execution_count": 38,
   "id": "0a9f0d89-1c82-4844-903a-b6413d30d8a8",
   "metadata": {},
   "outputs": [
    {
     "name": "stdout",
     "output_type": "stream",
     "text": [
      "0\n"
     ]
    }
   ],
   "source": [
    "print(df1['Cabin'].isnull().sum())  #now the na values are 0 here also"
   ]
  },
  {
   "cell_type": "code",
   "execution_count": 40,
   "id": "9c38ce77-3fb6-428b-9e70-90316ced5bf5",
   "metadata": {},
   "outputs": [
    {
     "data": {
      "text/plain": [
       "PassengerId    0\n",
       "Survived       0\n",
       "Pclass         0\n",
       "Name           0\n",
       "Sex            0\n",
       "Age            0\n",
       "SibSp          0\n",
       "Parch          0\n",
       "Ticket         0\n",
       "Fare           0\n",
       "Cabin          0\n",
       "Embarked       0\n",
       "dtype: int64"
      ]
     },
     "execution_count": 40,
     "metadata": {},
     "output_type": "execute_result"
    }
   ],
   "source": [
    "df1.isnull().sum()  #NO nulll values now"
   ]
  },
  {
   "cell_type": "code",
   "execution_count": null,
   "id": "099aef16-2d24-482a-8083-920122d4595f",
   "metadata": {},
   "outputs": [],
   "source": []
  },
  {
   "cell_type": "code",
   "execution_count": 41,
   "id": "24055b9f-a574-4309-a819-34935f23ba63",
   "metadata": {},
   "outputs": [
    {
     "data": {
      "text/html": [
       "<div>\n",
       "<style scoped>\n",
       "    .dataframe tbody tr th:only-of-type {\n",
       "        vertical-align: middle;\n",
       "    }\n",
       "\n",
       "    .dataframe tbody tr th {\n",
       "        vertical-align: top;\n",
       "    }\n",
       "\n",
       "    .dataframe thead th {\n",
       "        text-align: right;\n",
       "    }\n",
       "</style>\n",
       "<table border=\"1\" class=\"dataframe\">\n",
       "  <thead>\n",
       "    <tr style=\"text-align: right;\">\n",
       "      <th></th>\n",
       "      <th>PassengerId</th>\n",
       "      <th>Survived</th>\n",
       "      <th>Pclass</th>\n",
       "      <th>Age</th>\n",
       "      <th>SibSp</th>\n",
       "      <th>Parch</th>\n",
       "      <th>Fare</th>\n",
       "    </tr>\n",
       "  </thead>\n",
       "  <tbody>\n",
       "    <tr>\n",
       "      <th>count</th>\n",
       "      <td>418.000000</td>\n",
       "      <td>418.000000</td>\n",
       "      <td>418.000000</td>\n",
       "      <td>418.000000</td>\n",
       "      <td>418.000000</td>\n",
       "      <td>418.000000</td>\n",
       "      <td>418.000000</td>\n",
       "    </tr>\n",
       "    <tr>\n",
       "      <th>mean</th>\n",
       "      <td>1100.500000</td>\n",
       "      <td>0.363636</td>\n",
       "      <td>2.265550</td>\n",
       "      <td>30.272590</td>\n",
       "      <td>0.447368</td>\n",
       "      <td>0.392344</td>\n",
       "      <td>35.627188</td>\n",
       "    </tr>\n",
       "    <tr>\n",
       "      <th>std</th>\n",
       "      <td>120.810458</td>\n",
       "      <td>0.481622</td>\n",
       "      <td>0.841838</td>\n",
       "      <td>12.634534</td>\n",
       "      <td>0.896760</td>\n",
       "      <td>0.981429</td>\n",
       "      <td>55.840500</td>\n",
       "    </tr>\n",
       "    <tr>\n",
       "      <th>min</th>\n",
       "      <td>892.000000</td>\n",
       "      <td>0.000000</td>\n",
       "      <td>1.000000</td>\n",
       "      <td>0.170000</td>\n",
       "      <td>0.000000</td>\n",
       "      <td>0.000000</td>\n",
       "      <td>0.000000</td>\n",
       "    </tr>\n",
       "    <tr>\n",
       "      <th>25%</th>\n",
       "      <td>996.250000</td>\n",
       "      <td>0.000000</td>\n",
       "      <td>1.000000</td>\n",
       "      <td>23.000000</td>\n",
       "      <td>0.000000</td>\n",
       "      <td>0.000000</td>\n",
       "      <td>7.895800</td>\n",
       "    </tr>\n",
       "    <tr>\n",
       "      <th>50%</th>\n",
       "      <td>1100.500000</td>\n",
       "      <td>0.000000</td>\n",
       "      <td>3.000000</td>\n",
       "      <td>30.272590</td>\n",
       "      <td>0.000000</td>\n",
       "      <td>0.000000</td>\n",
       "      <td>14.454200</td>\n",
       "    </tr>\n",
       "    <tr>\n",
       "      <th>75%</th>\n",
       "      <td>1204.750000</td>\n",
       "      <td>1.000000</td>\n",
       "      <td>3.000000</td>\n",
       "      <td>35.750000</td>\n",
       "      <td>1.000000</td>\n",
       "      <td>0.000000</td>\n",
       "      <td>31.500000</td>\n",
       "    </tr>\n",
       "    <tr>\n",
       "      <th>max</th>\n",
       "      <td>1309.000000</td>\n",
       "      <td>1.000000</td>\n",
       "      <td>3.000000</td>\n",
       "      <td>76.000000</td>\n",
       "      <td>8.000000</td>\n",
       "      <td>9.000000</td>\n",
       "      <td>512.329200</td>\n",
       "    </tr>\n",
       "  </tbody>\n",
       "</table>\n",
       "</div>"
      ],
      "text/plain": [
       "       PassengerId    Survived      Pclass         Age       SibSp  \\\n",
       "count   418.000000  418.000000  418.000000  418.000000  418.000000   \n",
       "mean   1100.500000    0.363636    2.265550   30.272590    0.447368   \n",
       "std     120.810458    0.481622    0.841838   12.634534    0.896760   \n",
       "min     892.000000    0.000000    1.000000    0.170000    0.000000   \n",
       "25%     996.250000    0.000000    1.000000   23.000000    0.000000   \n",
       "50%    1100.500000    0.000000    3.000000   30.272590    0.000000   \n",
       "75%    1204.750000    1.000000    3.000000   35.750000    1.000000   \n",
       "max    1309.000000    1.000000    3.000000   76.000000    8.000000   \n",
       "\n",
       "            Parch        Fare  \n",
       "count  418.000000  418.000000  \n",
       "mean     0.392344   35.627188  \n",
       "std      0.981429   55.840500  \n",
       "min      0.000000    0.000000  \n",
       "25%      0.000000    7.895800  \n",
       "50%      0.000000   14.454200  \n",
       "75%      0.000000   31.500000  \n",
       "max      9.000000  512.329200  "
      ]
     },
     "execution_count": 41,
     "metadata": {},
     "output_type": "execute_result"
    }
   ],
   "source": [
    "#remeive inconsistenv-cy in dataset if any present\n",
    "df1.describe()"
   ]
  },
  {
   "cell_type": "code",
   "execution_count": 52,
   "id": "939df4a5-4f8f-42b7-8b15-ceb6881bceb6",
   "metadata": {},
   "outputs": [
    {
     "name": "stdout",
     "output_type": "stream",
     "text": [
      "Survived\n",
      "0    266\n",
      "1    152\n",
      "Name: count, dtype: int64\n",
      "Pclass\n",
      "3    218\n",
      "1    107\n",
      "2     93\n",
      "Name: count, dtype: int64\n",
      "count    418.000000\n",
      "mean      30.272590\n",
      "std       12.634534\n",
      "min        0.170000\n",
      "25%       23.000000\n",
      "50%       30.272590\n",
      "75%       35.750000\n",
      "max       76.000000\n",
      "Name: Age, dtype: float64\n",
      "SibSp\n",
      "0    283\n",
      "1    110\n",
      "2     14\n",
      "3      4\n",
      "4      4\n",
      "8      2\n",
      "5      1\n",
      "Name: count, dtype: int64\n",
      "Parch\n",
      "0    324\n",
      "1     52\n",
      "2     33\n",
      "3      3\n",
      "4      2\n",
      "9      2\n",
      "6      1\n",
      "5      1\n",
      "Name: count, dtype: int64\n",
      "count    418.000000\n",
      "mean      35.627188\n",
      "std       55.840500\n",
      "min        0.000000\n",
      "25%        7.895800\n",
      "50%       14.454200\n",
      "75%       31.500000\n",
      "max      512.329200\n",
      "Name: Fare, dtype: float64\n"
     ]
    }
   ],
   "source": [
    "#lets check column wise concistency\n",
    "#PassengerId --  it is just  for identification pupose. alo it is not part of uor futher model as it doesent play any sigificant role on prediction.\n",
    "\n",
    "#Survived\t\n",
    "print(df1['Survived'].value_counts())   #[0,1] value are present \n",
    "#so this is a binary  dateste which is like {died, survived  }  so  this is also a consistent data\n",
    "\n",
    "#Pclass -- indicates passeneger class selected\n",
    "print(df1['Pclass'].value_counts())     #[1,2,3]  these are three classses given for the column, also there is no anytoher vallue found outsied this range\n",
    "#so Pclass is also consistent\n",
    "#for assusrance we can check it \n",
    "df1 = df1[df1['Pclass'].isin([1, 2, 3])]  #  will Ensure no values outside the range of 1 to 3 exist.\n",
    "\n",
    "\n",
    "#Age -- shows passengeers age\n",
    "print(df1['Age'].describe())\n",
    "'''count    418.000000\n",
    "mean      30.272590\n",
    "std       12.634534\n",
    "min        0.170000\n",
    "25%       23.000000\n",
    "50%       30.272590\n",
    "75%       35.750000\n",
    "max       76.000000'''\n",
    "#data  looks consistent as no -ve value of age , also max vallue of age is 76\n",
    "#further we can check it in our boxplot ot detect any outlier present in this coulmn\n",
    "\n",
    "\n",
    "#SibSp --  Number of siblings\n",
    "print(df1['SibSp'].value_counts())   \n",
    "'''0    283\n",
    "1    110\n",
    "2     14\n",
    "3      4\n",
    "4      4\n",
    "8      2\n",
    "5      1'''\n",
    "#here also no inconsitent seem. some are having high values we will do something on them in outliers.\n",
    "\n",
    "\n",
    "#Parch-- \n",
    "print(df1['Parch'].value_counts()) \n",
    "'''\n",
    "Parch\n",
    "0    324\n",
    "1     52\n",
    "2     33\n",
    "3      3\n",
    "4      2\n",
    "9      2\n",
    "6      1\n",
    "5      1\n",
    "'''\n",
    "\n",
    "\n",
    "#Fare\n",
    "print(df1['Fare'].describe()) \n",
    "'''\n",
    "count    418.000000\n",
    "mean      35.627188\n",
    "std       55.840500\n",
    "min        0.000000\n",
    "25%        7.895800\n",
    "50%       14.454200\n",
    "75%       31.500000\n",
    "max      512.329200'''\n"
   ]
  },
  {
   "cell_type": "code",
   "execution_count": 54,
   "id": "6cdb83f8-fac8-408a-ba00-98a4285d5544",
   "metadata": {},
   "outputs": [],
   "source": [
    "#prepare box plot for each numericsl attribute\n",
    "import matplotlib.pyplot as plt\n",
    "import seaborn as sns"
   ]
  },
  {
   "cell_type": "code",
   "execution_count": 55,
   "id": "4bd53503-f073-476f-9e19-5a8d25744137",
   "metadata": {},
   "outputs": [
    {
     "data": {
      "image/png": "[encoded data removed]",
      "text/plain": [
       "<Figure size 800x600 with 1 Axes>"
      ]
     },
     "metadata": {},
     "output_type": "display_data"
    }
   ],
   "source": [
    "# Create a boxplot for the 'SibSp' column\n",
    "plt.figure(figsize=(8,6))\n",
    "sns.boxplot(x=df1['SibSp'])\n",
    "plt.title('Boxplot of SibSp')\n",
    "plt.show()"
   ]
  },
  {
   "cell_type": "code",
   "execution_count": 56,
   "id": "988a152b-b5e5-4207-9e50-fa54ad5cb731",
   "metadata": {},
   "outputs": [],
   "source": [
    "#so ther are outliers in this \n",
    "# Remove rows where SibSp > 4\n",
    "df1 = df1[df1['SibSp'] <= 4]\n"
   ]
  },
  {
   "cell_type": "code",
   "execution_count": 57,
   "id": "0875c3b9-5829-44ec-ab22-4ae0570b0601",
   "metadata": {},
   "outputs": [
    {
     "data": {
      "image/png": "[encoded data removed]",
      "text/plain": [
       "<Figure size 800x600 with 1 Axes>"
      ]
     },
     "metadata": {},
     "output_type": "display_data"
    }
   ],
   "source": [
    "plt.figure(figsize=(8,6))\n",
    "sns.boxplot(x=df1['SibSp'])\n",
    "plt.title('Boxplot of SibSp')\n",
    "plt.show()"
   ]
  },
  {
   "cell_type": "code",
   "execution_count": 59,
   "id": "9d37ac4a-e698-4b47-977e-e88642eef816",
   "metadata": {},
   "outputs": [],
   "source": [
    "#same way for parch\n",
    "# Remove rows where SibSp > 4 (if considered outliers)\n",
    "df1 = df1[df1['Parch'] <= 4]\n"
   ]
  },
  {
   "cell_type": "code",
   "execution_count": 65,
   "id": "786390bf-8114-461c-97ab-f92d366eba0c",
   "metadata": {},
   "outputs": [
    {
     "data": {
      "image/png": "[encoded data removed]",
      "text/plain": [
       "<Figure size 800x600 with 1 Axes>"
      ]
     },
     "metadata": {},
     "output_type": "display_data"
    }
   ],
   "source": [
    "plt.figure(figsize=(8,6))\n",
    "sns.boxplot(x=df1['Fare'])\n",
    "plt.title('Boxplot of Fare')\n",
    "plt.show()"
   ]
  },
  {
   "cell_type": "code",
   "execution_count": 88,
   "id": "2a8fb86c-29ed-4e41-a4e6-5b4a840aa900",
   "metadata": {},
   "outputs": [],
   "source": [
    "# Calculate Q1, Q3, and IQR\n",
    "Q1 = df1['Fare'].quantile(0.25)\n",
    "Q3 = df1['Fare'].quantile(0.75)\n",
    "IQR = Q3 - Q1\n",
    "\n",
    "# Calculate lower and upper bounds\n",
    "lower_bound = Q1 - 1.5 * IQR\n",
    "upper_bound = Q3 + 1.5 * IQR\n",
    "\n",
    "# Filter the data to keep only values within the bounds\n",
    "df1_cleaned = df1[(df1['Fare'] >= lower_bound) & (df1['Fare'] <= upper_bound)]"
   ]
  },
  {
   "cell_type": "code",
   "execution_count": 89,
   "id": "1246e695-b7fe-4108-b80e-a2104e6ba0b3",
   "metadata": {},
   "outputs": [
    {
     "data": {
      "image/png": "[encoded data removed]",
      "text/plain": [
       "<Figure size 800x600 with 1 Axes>"
      ]
     },
     "metadata": {},
     "output_type": "display_data"
    }
   ],
   "source": [
    "plt.figure(figsize=(8,6))\n",
    "sns.boxplot(x=df1_cleaned['Fare'])\n",
    "plt.title('Boxplot of Fare')\n",
    "plt.show()"
   ]
  },
  {
   "cell_type": "code",
   "execution_count": 85,
   "id": "ad045de5-dbe3-49c7-8012-44b70fb55a6a",
   "metadata": {},
   "outputs": [
    {
     "data": {
      "text/plain": [
       "count    357.000000\n",
       "mean      17.720443\n",
       "std       13.653451\n",
       "min        0.000000\n",
       "25%        7.854200\n",
       "50%       13.000000\n",
       "75%       26.000000\n",
       "max       63.358300\n",
       "Name: Fare, dtype: float64"
      ]
     },
     "execution_count": 85,
     "metadata": {},
     "output_type": "execute_result"
    }
   ],
   "source": [
    "df1_cleaned['Fare'].describe()"
   ]
  },
  {
   "cell_type": "code",
   "execution_count": null,
   "id": "31fbc084-e18c-490a-a978-ab32d360faff",
   "metadata": {},
   "outputs": [],
   "source": [
    "#though the box ploot shows some value as outliers but still they are close to the max value. so they must be ignored."
   ]
  },
  {
   "cell_type": "code",
   "execution_count": null,
   "id": "251a8ba9-4f12-428a-93e0-0e134480dc06",
   "metadata": {},
   "outputs": [],
   "source": []
  },
  {
   "cell_type": "code",
   "execution_count": 99,
   "id": "417c8a23-532a-4d31-ab7d-46f0781e6dc2",
   "metadata": {},
   "outputs": [
    {
     "data": {
      "image/png": "[encoded data removed]",
      "text/plain": [
       "<Figure size 1400x600 with 2 Axes>"
      ]
     },
     "metadata": {},
     "output_type": "display_data"
    }
   ],
   "source": [
    "#Draw histogram for any two suitable attributes\n",
    "import matplotlib.pyplot as plt\n",
    "import seaborn as sns\n",
    "\n",
    "# Set up the figure and axes\n",
    "plt.figure(figsize=(14, 6))\n",
    "\n",
    "#  histogram for 'Age'\n",
    "plt.subplot(1, 2, 1)\n",
    "sns.histplot(df1_cleaned['Age'], kde=True, color='skyblue', bins=20)\n",
    "plt.title('Distribution of Age')\n",
    "plt.xlabel('Age')\n",
    "plt.ylabel('Frequency')\n",
    "\n",
    "# histogram for 'Fare'\n",
    "plt.subplot(1, 2, 2)\n",
    "sns.histplot(df1_cleaned['Fare'], kde=True, color='orange', bins=20)\n",
    "plt.title('Distribution of Fare')\n",
    "plt.xlabel('Fare')\n",
    "plt.ylabel('Frequency')\n",
    "\n",
    "# Display the plots\n",
    "plt.tight_layout()\n",
    "plt.show()"
   ]
  },
  {
   "cell_type": "code",
   "execution_count": 97,
   "id": "caee968c-7973-4d35-bbb1-73c222e0b637",
   "metadata": {},
   "outputs": [
    {
     "name": "stdout",
     "output_type": "stream",
     "text": [
      "<class 'pandas.core.frame.DataFrame'>\n",
      "Index: 355 entries, 0 to 417\n",
      "Data columns (total 12 columns):\n",
      " #   Column       Non-Null Count  Dtype  \n",
      "---  ------       --------------  -----  \n",
      " 0   PassengerId  355 non-null    int64  \n",
      " 1   Survived     355 non-null    int64  \n",
      " 2   Pclass       355 non-null    int64  \n",
      " 3   Name         355 non-null    object \n",
      " 4   Sex          355 non-null    object \n",
      " 5   Age          355 non-null    float64\n",
      " 6   SibSp        355 non-null    int64  \n",
      " 7   Parch        355 non-null    int64  \n",
      " 8   Ticket       355 non-null    object \n",
      " 9   Fare         355 non-null    float64\n",
      " 10  Cabin        355 non-null    object \n",
      " 11  Embarked     355 non-null    object \n",
      "dtypes: float64(2), int64(5), object(5)\n",
      "memory usage: 36.1+ KB\n"
     ]
    }
   ],
   "source": [
    "#find data type for each column\n",
    "df1_cleaned.info()"
   ]
  },
  {
   "cell_type": "code",
   "execution_count": 95,
   "id": "fda58016-b185-441b-a44d-508c71d0aad8",
   "metadata": {},
   "outputs": [
    {
     "name": "stdout",
     "output_type": "stream",
     "text": [
      "Number of zero values in 'Fare': 0\n"
     ]
    }
   ],
   "source": [
    "#finding ut zero\n",
    "'''\n",
    "Survived\n",
    "0    266\n",
    "\n",
    "SibSp\n",
    "0    283\n",
    "\n",
    "Parch\n",
    "0    324\n",
    "\n",
    "'''\n",
    "#as pper aboe obeservation these are categorical values and are valid\n",
    "\n",
    "# Check for zero values in the 'Fare' column\n",
    "zero_fare_count = (df1_cleaned['Fare'] == 0).sum()\n",
    "\n",
    "print(f\"Number of zero values in 'Fare': {zero_fare_count}\")\n",
    "\n",
    "#lets remove those 2 values having zero\n",
    "df1_cleaned = df1_cleaned[df1_cleaned['Fare'] != 0]\n",
    "\n",
    "\n",
    "\n"
   ]
  },
  {
   "cell_type": "code",
   "execution_count": 96,
   "id": "5ece5de9-6eeb-419e-9135-0d2ba2c03f2d",
   "metadata": {},
   "outputs": [
    {
     "name": "stdout",
     "output_type": "stream",
     "text": [
      "PassengerId      0\n",
      "Survived       234\n",
      "Pclass           0\n",
      "Name             0\n",
      "Sex              0\n",
      "Age              0\n",
      "SibSp          258\n",
      "Parch          290\n",
      "Ticket           0\n",
      "Fare             0\n",
      "Cabin            0\n",
      "Embarked         0\n",
      "dtype: int64\n"
     ]
    }
   ],
   "source": [
    "# Check for zero values in each column and print them\n",
    "zero_values_per_column = (df1_cleaned == 0).sum()\n",
    "\n",
    "# Print the number of zero values per column\n",
    "print(zero_values_per_column)\n"
   ]
  },
  {
   "cell_type": "code",
   "execution_count": 102,
   "id": "3abe5ec0-d26d-4b59-a3e8-8283b395dcc4",
   "metadata": {},
   "outputs": [
    {
     "name": "stdout",
     "output_type": "stream",
     "text": [
      "Mean of Age: 28.66718988630579\n",
      "Mean of Fare: 17.820276023913266\n"
     ]
    }
   ],
   "source": [
    "#finding mean of any numerical attribuyte\n",
    "# Find the mean of 'Age'\n",
    "mean_age = df1_cleaned['Age'].mean()\n",
    "print(f\"Mean of Age: {mean_age}\")\n",
    "\n",
    "# Find the mean of 'Fare'\n",
    "mean_fare = df1_cleaned['Fare'].mean()\n",
    "print(f\"Mean of Fare: {mean_fare}\")\n"
   ]
  },
  {
   "cell_type": "code",
   "execution_count": 101,
   "id": "2612b21e-1bc9-4bcf-99d7-4c8500b73e11",
   "metadata": {},
   "outputs": [
    {
     "data": {
      "text/plain": [
       "(355, 12)"
      ]
     },
     "execution_count": 101,
     "metadata": {},
     "output_type": "execute_result"
    }
   ],
   "source": [
    "#fiind shape of data\n",
    "df1_cleaned.shape"
   ]
  },
  {
   "cell_type": "code",
   "execution_count": null,
   "id": "021539ed-2bc7-4222-aff8-a5ac8951aef1",
   "metadata": {},
   "outputs": [],
   "source": []
  }
 ],
 "metadata": {
  "kernelspec": {
   "display_name": "Python 3 (ipykernel)",
   "language": "python",
   "name": "python3"
  },
  "language_info": {
   "codemirror_mode": {
    "name": "ipython",
    "version": 3
   },
   "file_extension": ".py",
   "mimetype": "text/x-python",
   "name": "python",
   "nbconvert_exporter": "python",
   "pygments_lexer": "ipython3",
   "version": "3.12.7"
  }
 },
 "nbformat": 4,
 "nbformat_minor": 5
}
